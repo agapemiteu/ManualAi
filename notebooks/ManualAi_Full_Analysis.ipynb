{
  "cells": [
    {
      "cell_type": "markdown",
      "metadata": {
        "id": "view-in-github",
        "colab_type": "text"
      },
      "source": [
        "<a href=\"https://colab.research.google.com/github/agapemiteu/ManualAi/blob/main/notebooks/ManualAi_Full_Analysis.ipynb\" target=\"_parent\"><img src=\"https://colab.research.google.com/assets/colab-badge.svg\" alt=\"Open In Colab\"/></a>"
      ]
    },
    {
      "cell_type": "markdown",
      "id": "4ad5f0f1",
      "metadata": {
        "id": "4ad5f0f1"
      },
      "source": [
        "# ManualAi: Full Analysis Report 🚗📊\n",
        "\n",
        "**A Production RAG System Case Study**\n",
        "\n",
        "## Executive Summary\n",
        "\n",
        "This notebook contains the complete analysis of **ManualAi**, an AI-powered car manual assistant that achieved **76% accuracy** in production, outperforming the research prototype by 12%.\n",
        "\n",
        "**Key Achievement**: Simpler approach (PyMuPDF only) beat complex setup (OCR + NLTK)\n",
        "\n",
        "**Live Demo**: [manual-ai-psi.vercel.app](https://manual-ai-psi.vercel.app)  \n",
        "**GitHub**: [github.com/agapemiteu/ManualAi](https://github.com/agapemiteu/ManualAi)"
      ]
    },
    {
      "cell_type": "markdown",
      "id": "8ab500d2",
      "metadata": {
        "id": "8ab500d2"
      },
      "source": [
        "## 📋 Table of Contents\n",
        "\n",
        "1. [Setup & Data Loading](#setup)\n",
        "2. [Project Overview](#overview)\n",
        "3. [Production Results](#results)\n",
        "4. [Accuracy Analysis](#accuracy)\n",
        "5. [Category Performance](#categories)\n",
        "6. [Visualizations](#visualizations)\n",
        "7. [Technical Deep Dive](#technical)\n",
        "8. [Personal Insights](#insights)\n",
        "9. [Lessons Learned](#lessons)\n",
        "10. [Future Work](#future)"
      ]
    },
    {
      "cell_type": "markdown",
      "id": "1ecafd38",
      "metadata": {
        "id": "1ecafd38"
      },
      "source": [
        "<a name=\"setup\"></a>\n",
        "## 1. Setup & Data Loading"
      ]
    },
    {
      "cell_type": "code",
      "execution_count": null,
      "id": "4a6c1183",
      "metadata": {
        "id": "4a6c1183"
      },
      "outputs": [],
      "source": [
        "# Install required packages\n",
        "!pip install pandas matplotlib seaborn plotly requests -q"
      ]
    },
    {
      "cell_type": "code",
      "execution_count": null,
      "id": "ba7635e3",
      "metadata": {
        "id": "ba7635e3"
      },
      "outputs": [],
      "source": [
        "# Import libraries\n",
        "import pandas as pd\n",
        "import matplotlib.pyplot as plt\n",
        "import seaborn as sns\n",
        "import plotly.express as px\n",
        "import plotly.graph_objects as go\n",
        "import json\n",
        "import requests\n",
        "from IPython.display import Image, display, HTML\n",
        "\n",
        "# Set style\n",
        "sns.set_style(\"whitegrid\")\n",
        "plt.rcParams['figure.figsize'] = (12, 6)\n",
        "\n",
        "print(\"✅ Libraries imported successfully!\")"
      ]
    },
    {
      "cell_type": "code",
      "execution_count": null,
      "id": "cbe9fdd1",
      "metadata": {
        "id": "cbe9fdd1"
      },
      "outputs": [],
      "source": [
        "# Load evaluation results from GitHub\n",
        "GITHUB_RAW_URL = \"https://raw.githubusercontent.com/agapemiteu/ManualAi/main/analysis/production_evaluation_results.json\"\n",
        "\n",
        "try:\n",
        "    response = requests.get(GITHUB_RAW_URL)\n",
        "    results = response.json()\n",
        "    print(\"✅ Data loaded successfully!\")\n",
        "    print(f\"\\n📊 Summary:\")\n",
        "    print(f\"   Total Questions: {results['summary']['total']}\")\n",
        "    print(f\"   Exact Match: {results['summary']['exact_match']}\")\n",
        "    print(f\"   Within ±2 pages: {results['summary']['within_2_pages']}\")\n",
        "except Exception as e:\n",
        "    print(f\"❌ Error loading data: {e}\")\n",
        "    print(\"\\nFalling back to sample data...\")\n",
        "    # Create sample data structure\n",
        "    results = {\n",
        "        \"summary\": {\n",
        "            \"total\": 50,\n",
        "            \"exact_match\": 21,\n",
        "            \"within_2_pages\": 38,\n",
        "            \"within_5_pages\": 38,\n",
        "            \"within_10_pages\": 39\n",
        "        },\n",
        "        \"questions\": []\n",
        "    }"
      ]
    },
    {
      "cell_type": "markdown",
      "id": "3e568f3a",
      "metadata": {
        "id": "3e568f3a"
      },
      "source": [
        "<a name=\"overview\"></a>\n",
        "## 2. Project Overview\n",
        "\n",
        "### 🎯 The Problem\n",
        "\n",
        "<!-- YOUR PERSONAL STORY HERE -->\n",
        "Write about:\n",
        "- Why you started this project\n",
        "- What problem it solves\n",
        "- Your initial approach\n",
        "\n",
        "### 🏗️ System Architecture\n",
        "\n",
        "```\n",
        "User Query → Next.js Frontend → FastAPI Backend → ChromaDB → Groq LLM → Response\n",
        "```\n",
        "\n",
        "**Tech Stack:**\n",
        "- Frontend: Next.js 14, TypeScript, Tailwind CSS\n",
        "- Backend: FastAPI, Python 3.10\n",
        "- Document Processing: PyMuPDF\n",
        "- Embeddings: all-mpnet-base-v2\n",
        "- Vector Store: ChromaDB\n",
        "- LLM: Groq (llama-3.1-8b-instant)"
      ]
    },
    {
      "cell_type": "markdown",
      "id": "0ab8af5b",
      "metadata": {
        "id": "0ab8af5b"
      },
      "source": [
        "<a name=\"results\"></a>\n",
        "## 3. Production Results Summary"
      ]
    },
    {
      "cell_type": "code",
      "execution_count": null,
      "id": "6a19430e",
      "metadata": {
        "id": "6a19430e"
      },
      "outputs": [],
      "source": [
        "# Display key metrics\n",
        "summary = results['summary']\n",
        "\n",
        "print(\"=\"*60)\n",
        "print(\"           PRODUCTION EVALUATION RESULTS\")\n",
        "print(\"=\"*60)\n",
        "print(f\"\\n📊 Overall Performance:\")\n",
        "print(f\"   Total Questions Tested: {summary['total']}\")\n",
        "print(f\"\\n🎯 Accuracy by Tolerance:\")\n",
        "print(f\"   Exact Page Match:     {summary['exact_match']}/{summary['total']} = {summary['exact_match']/summary['total']*100:.1f}%\")\n",
        "print(f\"   Within ±2 pages:      {summary['within_2_pages']}/{summary['total']} = {summary['within_2_pages']/summary['total']*100:.1f}%\")\n",
        "print(f\"   Within ±5 pages:      {summary['within_5_pages']}/{summary['total']} = {summary['within_5_pages']/summary['total']*100:.1f}%\")\n",
        "print(f\"   Within ±10 pages:     {summary['within_10_pages']}/{summary['total']} = {summary['within_10_pages']/summary['total']*100:.1f}%\")\n",
        "print(f\"\\n⭐ Main Achievement: {summary['within_2_pages']/summary['total']*100:.1f}% accuracy (±2 pages)\")\n",
        "print(\"=\"*60)"
      ]
    },
    {
      "cell_type": "markdown",
      "id": "ca192477",
      "metadata": {
        "id": "ca192477"
      },
      "source": [
        "### 💡 What These Numbers Mean\n",
        "\n",
        "<!-- YOUR INTERPRETATION HERE -->\n",
        "\n",
        "Explain in your own words:\n",
        "- What does 76% accuracy within ±2 pages mean in practice?\n",
        "- Why is this better than exact match?\n",
        "- How does this compare to your expectations?\n",
        "- What does this mean for real users?"
      ]
    },
    {
      "cell_type": "markdown",
      "id": "3d5e705a",
      "metadata": {
        "id": "3d5e705a"
      },
      "source": [
        "<a name=\"accuracy\"></a>\n",
        "## 4. Accuracy Analysis"
      ]
    },
    {
      "cell_type": "code",
      "execution_count": null,
      "id": "1e7ea55b",
      "metadata": {
        "id": "1e7ea55b"
      },
      "outputs": [],
      "source": [
        "# Create accuracy comparison chart\n",
        "tolerance_levels = ['Exact', '±2 pages', '±5 pages', '±10 pages']\n",
        "accuracy_values = [\n",
        "    summary['exact_match']/summary['total']*100,\n",
        "    summary['within_2_pages']/summary['total']*100,\n",
        "    summary['within_5_pages']/summary['total']*100,\n",
        "    summary['within_10_pages']/summary['total']*100\n",
        "]\n",
        "\n",
        "fig = go.Figure(data=[\n",
        "    go.Bar(\n",
        "        x=tolerance_levels,\n",
        "        y=accuracy_values,\n",
        "        text=[f'{v:.1f}%' for v in accuracy_values],\n",
        "        textposition='auto',\n",
        "        marker_color=['#ef4444', '#22c55e', '#3b82f6', '#a855f7']\n",
        "    )\n",
        "])\n",
        "\n",
        "fig.update_layout(\n",
        "    title='Accuracy by Tolerance Level',\n",
        "    xaxis_title='Tolerance',\n",
        "    yaxis_title='Accuracy (%)',\n",
        "    yaxis=dict(range=[0, 100]),\n",
        "    showlegend=False,\n",
        "    height=400\n",
        ")\n",
        "\n",
        "fig.show()"
      ]
    },
    {
      "cell_type": "code",
      "execution_count": null,
      "id": "d50e4a82",
      "metadata": {
        "id": "d50e4a82"
      },
      "outputs": [],
      "source": [
        "# Production vs Research Comparison\n",
        "comparison_data = {\n",
        "    'Version': ['Research\\n(Complex)', 'Production\\n(Simple)'],\n",
        "    'Accuracy': [64, 76],\n",
        "    'Approach': ['OCR + NLTK', 'PyMuPDF Only']\n",
        "}\n",
        "\n",
        "fig = go.Figure(data=[\n",
        "    go.Bar(\n",
        "        x=comparison_data['Version'],\n",
        "        y=comparison_data['Accuracy'],\n",
        "        text=[f\"{v}%<br>{a}\" for v, a in zip(comparison_data['Accuracy'], comparison_data['Approach'])],\n",
        "        textposition='auto',\n",
        "        marker_color=['#f59e0b', '#22c55e']\n",
        "    )\n",
        "])\n",
        "\n",
        "fig.update_layout(\n",
        "    title='Production vs Research: Simpler Won! 🎉',\n",
        "    yaxis_title='Accuracy (% within ±2 pages)',\n",
        "    yaxis=dict(range=[0, 100]),\n",
        "    showlegend=False,\n",
        "    height=400,\n",
        "    annotations=[{\n",
        "        'x': 1, 'y': 76,\n",
        "        'text': '+12% improvement!',\n",
        "        'showarrow': True,\n",
        "        'arrowhead': 2,\n",
        "        'font': {'size': 14, 'color': 'green'}\n",
        "    }]\n",
        ")\n",
        "\n",
        "fig.show()"
      ]
    },
    {
      "cell_type": "markdown",
      "id": "b2be5fdc",
      "metadata": {
        "id": "b2be5fdc"
      },
      "source": [
        "### 🤔 Why Did Simpler Win?\n",
        "\n",
        "<!-- YOUR ANALYSIS HERE -->\n",
        "\n",
        "Discuss:\n",
        "- What you expected vs what happened\n",
        "- Possible reasons for better performance\n",
        "- What this taught you about software engineering\n",
        "- When to add complexity vs keep it simple"
      ]
    },
    {
      "cell_type": "markdown",
      "id": "9511cdc3",
      "metadata": {
        "id": "9511cdc3"
      },
      "source": [
        "<a name=\"categories\"></a>\n",
        "## 5. Category Performance Analysis"
      ]
    },
    {
      "cell_type": "code",
      "execution_count": null,
      "id": "7e8e98ed",
      "metadata": {
        "id": "7e8e98ed"
      },
      "outputs": [],
      "source": [
        "# Category performance data\n",
        "categories = {\n",
        "    'System Knowledge': {'correct': 7, 'total': 8, 'accuracy': 87.5},\n",
        "    'Advanced Systems': {'correct': 5, 'total': 6, 'accuracy': 83.3},\n",
        "    'Maintenance': {'correct': 7, 'total': 9, 'accuracy': 77.8},\n",
        "    'Safety': {'correct': 6, 'total': 8, 'accuracy': 75.0},\n",
        "    'Troubleshooting': {'correct': 6, 'total': 8, 'accuracy': 75.0},\n",
        "    'Miscellaneous': {'correct': 7, 'total': 11, 'accuracy': 63.6}\n",
        "}\n",
        "\n",
        "# Create DataFrame\n",
        "cat_df = pd.DataFrame(categories).T\n",
        "cat_df = cat_df.sort_values('accuracy', ascending=False)\n",
        "\n",
        "# Display table\n",
        "print(\"\\n📊 Performance by Question Category:\\n\")\n",
        "print(cat_df.to_string())\n",
        "\n",
        "# Create bar chart\n",
        "fig = px.bar(\n",
        "    cat_df,\n",
        "    y=cat_df.index,\n",
        "    x='accuracy',\n",
        "    orientation='h',\n",
        "    text='accuracy',\n",
        "    title='Accuracy by Question Category',\n",
        "    labels={'accuracy': 'Accuracy (%)', 'index': 'Category'},\n",
        "    color='accuracy',\n",
        "    color_continuous_scale='RdYlGn'\n",
        ")\n",
        "\n",
        "fig.update_traces(texttemplate='%{text:.1f}%', textposition='outside')\n",
        "fig.update_layout(height=400, showlegend=False)\n",
        "fig.show()"
      ]
    },
    {
      "cell_type": "markdown",
      "id": "d290e816",
      "metadata": {
        "id": "d290e816"
      },
      "source": [
        "### 📊 Category Analysis\n",
        "\n",
        "<!-- YOUR INSIGHTS HERE -->\n",
        "\n",
        "For each category, explain:\n",
        "- Why you think it performed well/poorly\n",
        "- What makes these questions easier/harder\n",
        "- Examples of questions that worked/failed\n",
        "- How you might improve specific categories"
      ]
    },
    {
      "cell_type": "markdown",
      "id": "c11bf99c",
      "metadata": {
        "id": "c11bf99c"
      },
      "source": [
        "<a name=\"visualizations\"></a>\n",
        "## 6. Visualizations"
      ]
    },
    {
      "cell_type": "code",
      "execution_count": null,
      "id": "ad1a47fe",
      "metadata": {
        "id": "ad1a47fe"
      },
      "outputs": [],
      "source": [
        "# Display images from GitHub\n",
        "base_url = \"https://raw.githubusercontent.com/agapemiteu/ManualAi/main/analysis/\"\n",
        "\n",
        "images = [\n",
        "    \"improvement_journey.png\",\n",
        "    \"performance_comparison.png\",\n",
        "    \"tolerance_analysis.png\",\n",
        "    \"error_distribution.png\",\n",
        "    \"component_contribution.png\",\n",
        "    \"latency_comparison.png\"\n",
        "]\n",
        "\n",
        "for img_name in images:\n",
        "    print(f\"\\n### {img_name.replace('_', ' ').replace('.png', '').title()}\")\n",
        "    display(Image(url=base_url + img_name, width=800))\n",
        "    print(f\"\\n<!-- ADD YOUR INTERPRETATION OF THIS CHART HERE -->\\n\")"
      ]
    },
    {
      "cell_type": "markdown",
      "id": "9462bb53",
      "metadata": {
        "id": "9462bb53"
      },
      "source": [
        "<a name=\"technical\"></a>\n",
        "## 7. Technical Deep Dive"
      ]
    },
    {
      "cell_type": "markdown",
      "id": "26279e89",
      "metadata": {
        "id": "26279e89"
      },
      "source": [
        "### 🔧 Technology Choices\n",
        "\n",
        "<!-- YOUR TECHNICAL DECISIONS -->\n",
        "\n",
        "#### Why Next.js?\n",
        "- Your reasons\n",
        "- Trade-offs\n",
        "- Alternatives considered\n",
        "\n",
        "#### Why FastAPI?\n",
        "- Your reasons\n",
        "- Performance considerations\n",
        "- Experience with it\n",
        "\n",
        "#### Why PyMuPDF (and NOT OCR)?\n",
        "- Initial assumption\n",
        "- The pivot\n",
        "- Lessons learned\n",
        "\n",
        "#### Why Groq API?\n",
        "- Cost considerations\n",
        "- Speed requirements\n",
        "- Alternatives\n",
        "\n",
        "#### Why ChromaDB?\n",
        "- Vector database options\n",
        "- In-memory vs persistent\n",
        "- Your choice"
      ]
    },
    {
      "cell_type": "markdown",
      "id": "8916800e",
      "metadata": {
        "id": "8916800e"
      },
      "source": [
        "### 🏗️ RAG Pipeline Details"
      ]
    },
    {
      "cell_type": "code",
      "execution_count": null,
      "id": "673e53a1",
      "metadata": {
        "id": "673e53a1"
      },
      "outputs": [],
      "source": [
        "# Display pipeline stages\n",
        "pipeline_stages = {\n",
        "    'Stage': ['Document Upload', 'Text Extraction', 'Chunking', 'Embedding', 'Vector Store', 'Query', 'Retrieval', 'LLM Generation'],\n",
        "    'Component': ['FastAPI', 'PyMuPDF', 'Custom Splitter', 'all-mpnet-base-v2', 'ChromaDB', 'User Input', 'HNSW Search', 'Groq API'],\n",
        "    'Time': ['N/A', '~30s', '~5s', '~20s', '~10s', 'Instant', '~0.5s', '~2s']\n",
        "}\n",
        "\n",
        "df = pd.DataFrame(pipeline_stages)\n",
        "display(HTML(df.to_html(index=False)))"
      ]
    },
    {
      "cell_type": "markdown",
      "id": "87a894ea",
      "metadata": {
        "id": "87a894ea"
      },
      "source": [
        "### 🚀 Deployment Architecture\n",
        "\n",
        "<!-- YOUR DEPLOYMENT STORY -->\n",
        "\n",
        "#### Three-Platform Deployment\n",
        "1. **Vercel** (Frontend)\n",
        "   - Why?\n",
        "   - Challenges?\n",
        "   \n",
        "2. **HuggingFace Spaces** (Backend)\n",
        "   - Why?\n",
        "   - Issues faced?\n",
        "   \n",
        "3. **GitHub Pages** (Docs)\n",
        "   - Why?\n",
        "   - Experience?\n",
        "\n",
        "#### Would You Do It Again?\n",
        "- Pros of multi-platform\n",
        "- Cons of multi-platform\n",
        "- What you'd change"
      ]
    },
    {
      "cell_type": "markdown",
      "id": "9ca4dbb5",
      "metadata": {
        "id": "9ca4dbb5"
      },
      "source": [
        "<a name=\"insights\"></a>\n",
        "## 8. Personal Insights & Stories"
      ]
    },
    {
      "cell_type": "markdown",
      "id": "ca969657",
      "metadata": {
        "id": "ca969657"
      },
      "source": [
        "### 💭 My Journey\n",
        "\n",
        "<!-- YOUR PERSONAL STORY -->\n",
        "\n",
        "#### Starting Point\n",
        "Write about:\n",
        "- Your skill level when you started\n",
        "- What you knew vs didn't know\n",
        "- Your initial plan\n",
        "\n",
        "#### The Struggle\n",
        "Share specific moments:\n",
        "- The hardest bug\n",
        "- When you wanted to give up\n",
        "- Breakthrough moments\n",
        "\n",
        "#### The Victory\n",
        "- When it finally worked\n",
        "- Seeing 76% for the first time\n",
        "- Deploying to production"
      ]
    },
    {
      "cell_type": "markdown",
      "id": "4b0e11ab",
      "metadata": {
        "id": "4b0e11ab"
      },
      "source": [
        "### 🎯 Most Challenging Moments\n",
        "\n",
        "<!-- YOUR CHALLENGE STORIES -->\n",
        "\n",
        "#### Challenge #1: [Your Biggest Problem]\n",
        "- What went wrong\n",
        "- How long it took\n",
        "- How you solved it\n",
        "- What you learned\n",
        "\n",
        "#### Challenge #2: [Another Major Issue]\n",
        "- The problem\n",
        "- What you tried\n",
        "- The solution\n",
        "- The lesson\n",
        "\n",
        "#### Challenge #3: [Unexpected Issue]\n",
        "- What surprised you\n",
        "- Your reaction\n",
        "- The resolution\n",
        "- Growth moment"
      ]
    },
    {
      "cell_type": "markdown",
      "id": "be6d7251",
      "metadata": {
        "id": "be6d7251"
      },
      "source": [
        "<a name=\"lessons\"></a>\n",
        "## 9. Lessons Learned"
      ]
    },
    {
      "cell_type": "markdown",
      "id": "1c25b3a5",
      "metadata": {
        "id": "1c25b3a5"
      },
      "source": [
        "### 📚 Technical Lessons\n",
        "\n",
        "<!-- YOUR TECHNICAL LEARNINGS -->\n",
        "\n",
        "1. **About RAG Systems**\n",
        "   - What you learned\n",
        "   - What surprised you\n",
        "   \n",
        "2. **About Deployment**\n",
        "   - Dev vs production\n",
        "   - What you'd do differently\n",
        "   \n",
        "3. **About Performance Optimization**\n",
        "   - What worked\n",
        "   - What didn't\n",
        "   \n",
        "4. **About Evaluation**\n",
        "   - Importance of ground truth\n",
        "   - Measuring what matters"
      ]
    },
    {
      "cell_type": "markdown",
      "id": "eefacb71",
      "metadata": {
        "id": "eefacb71"
      },
      "source": [
        "### 🌱 Personal Growth\n",
        "\n",
        "<!-- YOUR PERSONAL DEVELOPMENT -->\n",
        "\n",
        "#### Before This Project\n",
        "- What you thought about [specific concept]\n",
        "- Your approach to [specific task]\n",
        "- Your understanding of [specific technology]\n",
        "\n",
        "#### After This Project\n",
        "- How your thinking changed\n",
        "- New approaches you learned\n",
        "- Deeper understanding gained\n",
        "\n",
        "#### Skills Developed\n",
        "1. Technical:\n",
        "2. Problem-solving:\n",
        "3. Project management:\n",
        "4. Communication:"
      ]
    },
    {
      "cell_type": "markdown",
      "id": "19548995",
      "metadata": {
        "id": "19548995"
      },
      "source": [
        "---\n",
        "\n",
        "## 🎓 Conclusion\n",
        "\n",
        "<!-- YOUR FINAL THOUGHTS -->\n",
        "\n",
        "### Key Takeaways\n",
        "1.\n",
        "2.\n",
        "3.\n",
        "\n",
        "### How This Changed Me\n",
        "\n",
        "Write about:\n",
        "- Your growth as a developer\n",
        "- What you're most proud of\n",
        "- How this fits into your career goals\n",
        "- What's next for you\n",
        "\n",
        "---\n",
        "\n",
        "## 📚 Resources & Links\n",
        "\n",
        "- **Live Demo**: [manual-ai-psi.vercel.app](https://manual-ai-psi.vercel.app)\n",
        "- **GitHub**: [github.com/agapemiteu/ManualAi](https://github.com/agapemiteu/ManualAi)\n",
        "- **Documentation**: [agapemiteu.github.io/ManualAi](https://agapemiteu.github.io/ManualAi)\n",
        "\n",
        "---\n",
        "\n",
        "**Made with ❤️ by Agape Miteu**  \n",
        "*If you found this helpful, please ⭐ the repository!*"
      ]
    }
  ],
  "metadata": {
    "language_info": {
      "name": "python"
    },
    "colab": {
      "provenance": [],
      "include_colab_link": true
    }
  },
  "nbformat": 4,
  "nbformat_minor": 5
}