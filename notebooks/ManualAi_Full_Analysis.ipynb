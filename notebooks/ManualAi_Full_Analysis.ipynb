{
  "cells": [
    {
      "cell_type": "markdown",
      "metadata": {
        "id": "view-in-github",
        "colab_type": "text"
      },
      "source": [
        "<a href=\"https://colab.research.google.com/github/agapemiteu/ManualAi/blob/main/notebooks/ManualAi_Full_Analysis.ipynb\" target=\"_parent\"><img src=\"https://colab.research.google.com/assets/colab-badge.svg\" alt=\"Open In Colab\"/></a>"
      ]
    },
    {
      "cell_type": "markdown",
      "id": "4ad5f0f1",
      "metadata": {
        "id": "4ad5f0f1"
      },
      "source": [
        "# ManualAi: Full Analysis Report\n",
        "\n",
        "**A Production RAG System Case Study**\n",
        "\n",
        "## Executive Summary\n",
        "\n",
        "This notebook contains the complete analysis of **ManualAi**, an AI-powered car manual assistant that achieved **76% accuracy** in production, outperforming the research prototype by 12%.\n",
        "\n",
        "**Key Achievement**: Simpler approach (PyMuPDF only) beat complex setup (OCR + NLTK)\n",
        "\n",
        "**Live Demo**: [manual-ai-psi.vercel.app](https://manual-ai-psi.vercel.app)  \n",
        "**GitHub**: [github.com/agapemiteu/ManualAi](https://github.com/agapemiteu/ManualAi)"
      ]
    },
    {
      "cell_type": "markdown",
      "id": "8ab500d2",
      "metadata": {
        "id": "8ab500d2"
      },
      "source": [
        "##  Table of Contents\n",
        "\n",
        "1. [Setup & Data Loading](#setup)\n",
        "2. [Project Overview](#overview)\n",
        "3. [Dataset & Evaluation](#dataset)\n",
        "4. [Production Results](#results)\n",
        "5. [Accuracy Analysis](#accuracy)\n",
        "6. [Category Performance](#categories)\n",
        "7. [Visualizations](#visualizations)\n",
        "8. [Technical Deep Dive](#technical)\n",
        "9. [Lessons learned](#lessons)\n",
        "10. [key takeaways](#key)\n"
      ]
    },
    {
      "cell_type": "markdown",
      "id": "1ecafd38",
      "metadata": {
        "id": "1ecafd38"
      },
      "source": [
        "<a name=\"setup\"></a>\n",
        "## 1. Setup & Data Loading"
      ]
    },
    {
      "cell_type": "code",
      "execution_count": 2,
      "id": "4a6c1183",
      "metadata": {
        "id": "4a6c1183"
      },
      "outputs": [],
      "source": [
        "# Install required packages\n",
        "!pip install pandas matplotlib seaborn plotly requests -q"
      ]
    },
    {
      "cell_type": "code",
      "execution_count": 3,
      "id": "ba7635e3",
      "metadata": {
        "colab": {
          "base_uri": "https://localhost:8080/"
        },
        "id": "ba7635e3",
        "outputId": "d5ff7d1a-490f-4c7c-c5d1-8c4d25d6fc2c"
      },
      "outputs": [
        {
          "output_type": "stream",
          "name": "stdout",
          "text": [
            " Libraries imported successfully!\n"
          ]
        }
      ],
      "source": [
        "# Import libraries\n",
        "import pandas as pd\n",
        "import matplotlib.pyplot as plt\n",
        "import seaborn as sns\n",
        "import plotly.express as px\n",
        "import plotly.graph_objects as go\n",
        "import json\n",
        "import requests\n",
        "from IPython.display import Image, display, HTML\n",
        "\n",
        "# Set style\n",
        "sns.set_style(\"whitegrid\")\n",
        "plt.rcParams['figure.figsize'] = (12, 6)\n",
        "\n",
        "print(\" Libraries imported successfully!\")"
      ]
    },
    {
      "cell_type": "code",
      "execution_count": 4,
      "id": "cbe9fdd1",
      "metadata": {
        "colab": {
          "base_uri": "https://localhost:8080/"
        },
        "id": "cbe9fdd1",
        "outputId": "1df2b493-e83a-4301-ba09-4f840c5f1cd3"
      },
      "outputs": [
        {
          "output_type": "stream",
          "name": "stdout",
          "text": [
            " Data loaded successfully!\n",
            "\n",
            " Summary:\n",
            " Error loading data: 'summary'\n",
            "\n",
            "Falling back to sample data...\n"
          ]
        }
      ],
      "source": [
        "# Load evaluation results from GitHub\n",
        "GITHUB_RAW_URL = \"https://raw.githubusercontent.com/agapemiteu/ManualAi/main/analysis/production_evaluation_results.json\"\n",
        "\n",
        "try:\n",
        "    response = requests.get(GITHUB_RAW_URL)\n",
        "    results = response.json()\n",
        "    print(\" Data loaded successfully!\")\n",
        "    print(f\"\\n Summary:\")\n",
        "    print(f\"   Total Questions: {results['summary']['total']}\")\n",
        "    print(f\"   Exact Match: {results['summary']['exact_match']}\")\n",
        "    print(f\"   Within ±2 pages: {results['summary']['within_2_pages']}\")\n",
        "except Exception as e:\n",
        "    print(f\" Error loading data: {e}\")\n",
        "    print(\"\\nFalling back to sample data...\")\n",
        "    # Create sample data structure\n",
        "    results = {\n",
        "        \"summary\": {\n",
        "            \"total\": 50,\n",
        "            \"exact_match\": 21,\n",
        "            \"within_2_pages\": 38,\n",
        "            \"within_5_pages\": 38,\n",
        "            \"within_10_pages\": 39\n",
        "        },\n",
        "        \"questions\": []\n",
        "    }"
      ]
    },
    {
      "cell_type": "markdown",
      "id": "3e568f3a",
      "metadata": {
        "id": "3e568f3a"
      },
      "source": [
        "<a name=\"overview\"></a>\n",
        "## 2. Project Overview\n",
        "\n",
        "###  The Problem\n",
        "\n",
        "<!-- YOUR PERSONAL STORY HERE -->\n",
        "Car manuals are essential but notoriously user-unfriendly, making it stressful and inefficient to find urgent information like the meaning of a dashboard warning light.\n",
        "\n",
        "To solve this, I developed ManualAI, an AI-powered chatbot that transforms these dense documents into an interactive resource. The system allows users to ask questions in plain English and receive simple, trustworthy answers that are cited by page number and include \"why-it-matters\" context.\n",
        "\n",
        "The result is a tool that empowers drivers with instant, verifiable information, turning moments of stress into quick, confident resolutions and promoting a safer, more informed driving experience.\n",
        "\n",
        "###  System Architecture\n",
        "\n",
        "```\n",
        "User Query → Next.js Frontend → FastAPI Backend → ChromaDB → Groq LLM → Response\n",
        "```\n",
        "\n",
        "**Tech Stack:**\n",
        "- Frontend: Next.js 14, TypeScript, Tailwind CSS\n",
        "- Backend: FastAPI, Python 3.10\n",
        "- Document Processing: PyMuPDF\n",
        "- Embeddings: all-mpnet-base-v2\n",
        "- Vector Store: ChromaDB\n",
        "- LLM: Groq (llama-3.1-8b-instant)"
      ]
    },
    {
      "cell_type": "markdown",
      "metadata": {
        "id": "0dabedf7"
      },
      "source": [
        "---\n",
        "<a name=\"dataset\"></a>\n",
        "\n",
        "## 3. Dataset & Evaluation\n",
        "\n",
        "### Evaluation Dataset\n",
        "\n",
        "**ManualAi Custom Evaluation Set**\n",
        "\n",
        "This analysis uses a custom-curated evaluation dataset:\n",
        "\n",
        "| Attribute | Details |\n",
        "|-----------|---------|\n",
        "| **Name** | ManualAi Evaluation Set |\n",
        "| **Total Questions** | 50 curated Q&A pairs |\n",
        "| **Source Manual** | 2023 Toyota 4Runner Owner's Manual |\n",
        "Dataset credits: | https://parts.olathetoyota.com/owners-manuals?srsltid=AfmBOopxvDmI8H_DY2n8t3roW7ifik2F41pkz-2wH8NSCaeWLF2kczHU\n",
        "| **Document Length** | 608 pages (12.4 MB PDF) |\n",
        "| **Question Categories** | 6 distinct types |\n",
        "| **Repository** | [github.com/agapemiteu/ManualAi/data](https://github.com/agapemiteu/ManualAi/tree/main/data) |\n",
        "| **Creator** | Agape Miteu |\n",
        "| **License** | MIT (evaluation set) |\n",
        "| **Year** | 2025 |\n",
        "\n",
        "### Question Categories Breakdown\n",
        "\n",
        "| Category | Count | Purpose |\n",
        "|----------|-------|---------|\n",
        "| **Safety & Critical Warnings** | 12 | Emergency messages, critical system alerts |\n",
        "| **Troubleshooting & Diagnostics** | 10 | Error codes, warning lights, problem resolution |\n",
        "| **Maintenance Procedures** | 8 | Service schedules, routine maintenance tasks |\n",
        "| **System Knowledge** | 8 | Technical specifications, system details |\n",
        "| **Features & Controls** | 7 | Operation instructions, feature usage |\n",
        "| **General Information** | 5 | Warranty, overview, basic vehicle info |\n",
        "\n",
        "\n",
        "### Quality Assurance\n",
        "\n",
        " **Manual Verification** - All 50 ground truth page numbers verified by hand  \n",
        " **Full Document Coverage** - Questions span entire 608-page manual  \n",
        " **Realistic Patterns** - Based on actual user questions and needs  \n",
        " **Diverse Difficulty** - Simple lookups to complex multi-step queries  \n",
        " **Balanced Distribution** - Representative across all manual sections\n",
        "\n",
        "\n",
        "### Data Creation Methodology\n",
        "\n",
        "1. **Complete Reading** - Full 608-page manual analyzed\n",
        "2. **Question Design** - Created from common user needs, critical safety info, and troubleshooting scenarios\n",
        "3. **Ground Truth Verification** - Manual verification of correct page for each answer\n",
        "4. **Category Classification** - Organized by question type for systematic analysis\n",
        "5. **Quality Review** - Validated for clarity, answerability, and relevance\n",
        "\n",
        "\n",
        "### Source Material Attribution\n",
        "\n",
        "**Document**: 2023 Toyota 4Runner Owner's Manual  \n",
        "**Publisher**: Toyota Motor Corporation  \n",
        "**Copyright**: © 2023 Toyota Motor Corporation  \n",
        "**Usage**: Educational and research purposes under fair use doctrine  \n",
        "**Purpose**: Evaluation of RAG system performance on real-world automotive technical documentation\n",
        "\n",
        "### Ethical & Legal Considerations\n",
        "\n",
        "-  Source manual used for educational/research purposes only (fair use)\n",
        "-  No reproduction or distribution of copyrighted manual content\n",
        "-  Evaluation dataset (questions only) released under MIT license\n",
        "-  Clear attribution to Toyota Motor Corporation\n",
        "-  Methodology transparent and reproducible\n",
        "\n",
        "### Dataset Access & Format\n",
        "\n",
        "**File**: `data/evaluation_set.json`  \n",
        "**Format**: JSON with structured schema  \n",
        "\n",
        "**Schema Example**:\n",
        "```json\n",
        "{\n",
        "  \"description\": \"Evaluation set for 2023-Toyota-4runner-Manual\",\n",
        "  \"source_manual\": \"2023-Toyota-4runner-Manual.pdf\",\n",
        "  \"questions\": [\n",
        "    {\n",
        "      \"id\": \"T4R-001\",\n",
        "      \"question\": \"What should you do if...\",\n",
        "      \"ground_truth_answer_summary\": \"...\",\n",
        "      \"correct_page_number\": 490\n",
        "    }\n",
        "  ]\n",
        "}\n",
        "```\n",
        "\n"
      ],
      "id": "0dabedf7"
    },
    {
      "cell_type": "markdown",
      "id": "0ab8af5b",
      "metadata": {
        "id": "0ab8af5b"
      },
      "source": [
        "<a name=\"results\"></a>\n",
        "## 3. Production Results Summary"
      ]
    },
    {
      "cell_type": "code",
      "execution_count": 5,
      "id": "6a19430e",
      "metadata": {
        "colab": {
          "base_uri": "https://localhost:8080/"
        },
        "id": "6a19430e",
        "outputId": "f9cf4fc4-321e-48bb-a9e4-9063902b0ece"
      },
      "outputs": [
        {
          "output_type": "stream",
          "name": "stdout",
          "text": [
            "============================================================\n",
            "           PRODUCTION EVALUATION RESULTS\n",
            "============================================================\n",
            "\n",
            " Overall Performance:\n",
            "   Total Questions Tested: 50\n",
            "\n",
            " Accuracy by Tolerance:\n",
            "   Exact Page Match:     21/50 = 42.0%\n",
            "   Within ±2 pages:      38/50 = 76.0%\n",
            "   Within ±5 pages:      38/50 = 76.0%\n",
            "   Within ±10 pages:     39/50 = 78.0%\n",
            "\n",
            " Main Achievement: 76.0% accuracy (±2 pages)\n",
            "============================================================\n"
          ]
        }
      ],
      "source": [
        "# Display key metrics\n",
        "summary = results['summary']\n",
        "\n",
        "print(\"=\"*60)\n",
        "print(\"           PRODUCTION EVALUATION RESULTS\")\n",
        "print(\"=\"*60)\n",
        "print(f\"\\n Overall Performance:\")\n",
        "print(f\"   Total Questions Tested: {summary['total']}\")\n",
        "print(f\"\\n Accuracy by Tolerance:\")\n",
        "print(f\"   Exact Page Match:     {summary['exact_match']}/{summary['total']} = {summary['exact_match']/summary['total']*100:.1f}%\")\n",
        "print(f\"   Within ±2 pages:      {summary['within_2_pages']}/{summary['total']} = {summary['within_2_pages']/summary['total']*100:.1f}%\")\n",
        "print(f\"   Within ±5 pages:      {summary['within_5_pages']}/{summary['total']} = {summary['within_5_pages']/summary['total']*100:.1f}%\")\n",
        "print(f\"   Within ±10 pages:     {summary['within_10_pages']}/{summary['total']} = {summary['within_10_pages']/summary['total']*100:.1f}%\")\n",
        "print(f\"\\n Main Achievement: {summary['within_2_pages']/summary['total']*100:.1f}% accuracy (±2 pages)\")\n",
        "print(\"=\"*60)"
      ]
    },
    {
      "cell_type": "markdown",
      "metadata": {
        "id": "ad12a313"
      },
      "source": [
        "###  What These Numbers Mean\n",
        "\n",
        "**Explanation:**\n",
        "\n",
        "The 76% accuracy within ±2 pages means that for 76% of the questions asked, ManualAi was able to find the relevant information within a range of 2 pages before or after the exact correct page in the manual.\n",
        "\n",
        "This is often considered better than an exact match because finding information within a few pages is still incredibly useful for a user. Manuals are structured logically, so related information is often clustered together. Getting close to the exact page is usually enough for a user to quickly find what they need.\n",
        "\n",
        "This result is better than the previous research prototype, which had 64% accuracy within ±2 pages. This improvement was unexpected, as the production system used a simpler approach (PyMuPDF only) compared to the research prototype's complex setup (OCR + NLTK).\n",
        "\n",
        "For users, this means that ManualAi is a reliable tool for quickly finding information in their car manual. While it may not always land on the *exact* page, it gets them very close, saving them significant time and frustration compared to flipping through hundreds of pages manually."
      ],
      "id": "ad12a313"
    },
    {
      "cell_type": "markdown",
      "id": "3d5e705a",
      "metadata": {
        "id": "3d5e705a"
      },
      "source": [
        "<a name=\"accuracy\"></a>\n",
        "## 5. Accuracy Analysis"
      ]
    },
    {
      "cell_type": "code",
      "execution_count": 6,
      "id": "1e7ea55b",
      "metadata": {
        "colab": {
          "base_uri": "https://localhost:8080/",
          "height": 417
        },
        "id": "1e7ea55b",
        "outputId": "4a2484fa-99af-4200-cc8b-95b3a51446fe"
      },
      "outputs": [
        {
          "output_type": "display_data",
          "data": {
            "text/html": [
              "<html>\n",
              "<head><meta charset=\"utf-8\" /></head>\n",
              "<body>\n",
              "    <div>            <script src=\"https://cdnjs.cloudflare.com/ajax/libs/mathjax/2.7.5/MathJax.js?config=TeX-AMS-MML_SVG\"></script><script type=\"text/javascript\">if (window.MathJax && window.MathJax.Hub && window.MathJax.Hub.Config) {window.MathJax.Hub.Config({SVG: {font: \"STIX-Web\"}});}</script>                <script type=\"text/javascript\">window.PlotlyConfig = {MathJaxConfig: 'local'};</script>\n",
              "        <script charset=\"utf-8\" src=\"https://cdn.plot.ly/plotly-2.35.2.min.js\"></script>                <div id=\"34002cbd-7a96-48f2-868e-20f05e1b86ec\" class=\"plotly-graph-div\" style=\"height:400px; width:100%;\"></div>            <script type=\"text/javascript\">                                    window.PLOTLYENV=window.PLOTLYENV || {};                                    if (document.getElementById(\"34002cbd-7a96-48f2-868e-20f05e1b86ec\")) {                    Plotly.newPlot(                        \"34002cbd-7a96-48f2-868e-20f05e1b86ec\",                        [{\"marker\":{\"color\":[\"#ef4444\",\"#22c55e\",\"#3b82f6\",\"#a855f7\"]},\"text\":[\"42.0%\",\"76.0%\",\"76.0%\",\"78.0%\"],\"textposition\":\"auto\",\"x\":[\"Exact\",\"±2 pages\",\"±5 pages\",\"±10 pages\"],\"y\":[42.0,76.0,76.0,78.0],\"type\":\"bar\"}],                        {\"template\":{\"data\":{\"histogram2dcontour\":[{\"type\":\"histogram2dcontour\",\"colorbar\":{\"outlinewidth\":0,\"ticks\":\"\"},\"colorscale\":[[0.0,\"#0d0887\"],[0.1111111111111111,\"#46039f\"],[0.2222222222222222,\"#7201a8\"],[0.3333333333333333,\"#9c179e\"],[0.4444444444444444,\"#bd3786\"],[0.5555555555555556,\"#d8576b\"],[0.6666666666666666,\"#ed7953\"],[0.7777777777777778,\"#fb9f3a\"],[0.8888888888888888,\"#fdca26\"],[1.0,\"#f0f921\"]]}],\"choropleth\":[{\"type\":\"choropleth\",\"colorbar\":{\"outlinewidth\":0,\"ticks\":\"\"}}],\"histogram2d\":[{\"type\":\"histogram2d\",\"colorbar\":{\"outlinewidth\":0,\"ticks\":\"\"},\"colorscale\":[[0.0,\"#0d0887\"],[0.1111111111111111,\"#46039f\"],[0.2222222222222222,\"#7201a8\"],[0.3333333333333333,\"#9c179e\"],[0.4444444444444444,\"#bd3786\"],[0.5555555555555556,\"#d8576b\"],[0.6666666666666666,\"#ed7953\"],[0.7777777777777778,\"#fb9f3a\"],[0.8888888888888888,\"#fdca26\"],[1.0,\"#f0f921\"]]}],\"heatmap\":[{\"type\":\"heatmap\",\"colorbar\":{\"outlinewidth\":0,\"ticks\":\"\"},\"colorscale\":[[0.0,\"#0d0887\"],[0.1111111111111111,\"#46039f\"],[0.2222222222222222,\"#7201a8\"],[0.3333333333333333,\"#9c179e\"],[0.4444444444444444,\"#bd3786\"],[0.5555555555555556,\"#d8576b\"],[0.6666666666666666,\"#ed7953\"],[0.7777777777777778,\"#fb9f3a\"],[0.8888888888888888,\"#fdca26\"],[1.0,\"#f0f921\"]]}],\"heatmapgl\":[{\"type\":\"heatmapgl\",\"colorbar\":{\"outlinewidth\":0,\"ticks\":\"\"},\"colorscale\":[[0.0,\"#0d0887\"],[0.1111111111111111,\"#46039f\"],[0.2222222222222222,\"#7201a8\"],[0.3333333333333333,\"#9c179e\"],[0.4444444444444444,\"#bd3786\"],[0.5555555555555556,\"#d8576b\"],[0.6666666666666666,\"#ed7953\"],[0.7777777777777778,\"#fb9f3a\"],[0.8888888888888888,\"#fdca26\"],[1.0,\"#f0f921\"]]}],\"contourcarpet\":[{\"type\":\"contourcarpet\",\"colorbar\":{\"outlinewidth\":0,\"ticks\":\"\"}}],\"contour\":[{\"type\":\"contour\",\"colorbar\":{\"outlinewidth\":0,\"ticks\":\"\"},\"colorscale\":[[0.0,\"#0d0887\"],[0.1111111111111111,\"#46039f\"],[0.2222222222222222,\"#7201a8\"],[0.3333333333333333,\"#9c179e\"],[0.4444444444444444,\"#bd3786\"],[0.5555555555555556,\"#d8576b\"],[0.6666666666666666,\"#ed7953\"],[0.7777777777777778,\"#fb9f3a\"],[0.8888888888888888,\"#fdca26\"],[1.0,\"#f0f921\"]]}],\"surface\":[{\"type\":\"surface\",\"colorbar\":{\"outlinewidth\":0,\"ticks\":\"\"},\"colorscale\":[[0.0,\"#0d0887\"],[0.1111111111111111,\"#46039f\"],[0.2222222222222222,\"#7201a8\"],[0.3333333333333333,\"#9c179e\"],[0.4444444444444444,\"#bd3786\"],[0.5555555555555556,\"#d8576b\"],[0.6666666666666666,\"#ed7953\"],[0.7777777777777778,\"#fb9f3a\"],[0.8888888888888888,\"#fdca26\"],[1.0,\"#f0f921\"]]}],\"mesh3d\":[{\"type\":\"mesh3d\",\"colorbar\":{\"outlinewidth\":0,\"ticks\":\"\"}}],\"scatter\":[{\"fillpattern\":{\"fillmode\":\"overlay\",\"size\":10,\"solidity\":0.2},\"type\":\"scatter\"}],\"parcoords\":[{\"type\":\"parcoords\",\"line\":{\"colorbar\":{\"outlinewidth\":0,\"ticks\":\"\"}}}],\"scatterpolargl\":[{\"type\":\"scatterpolargl\",\"marker\":{\"colorbar\":{\"outlinewidth\":0,\"ticks\":\"\"}}}],\"bar\":[{\"error_x\":{\"color\":\"#2a3f5f\"},\"error_y\":{\"color\":\"#2a3f5f\"},\"marker\":{\"line\":{\"color\":\"#E5ECF6\",\"width\":0.5},\"pattern\":{\"fillmode\":\"overlay\",\"size\":10,\"solidity\":0.2}},\"type\":\"bar\"}],\"scattergeo\":[{\"type\":\"scattergeo\",\"marker\":{\"colorbar\":{\"outlinewidth\":0,\"ticks\":\"\"}}}],\"scatterpolar\":[{\"type\":\"scatterpolar\",\"marker\":{\"colorbar\":{\"outlinewidth\":0,\"ticks\":\"\"}}}],\"histogram\":[{\"marker\":{\"pattern\":{\"fillmode\":\"overlay\",\"size\":10,\"solidity\":0.2}},\"type\":\"histogram\"}],\"scattergl\":[{\"type\":\"scattergl\",\"marker\":{\"colorbar\":{\"outlinewidth\":0,\"ticks\":\"\"}}}],\"scatter3d\":[{\"type\":\"scatter3d\",\"line\":{\"colorbar\":{\"outlinewidth\":0,\"ticks\":\"\"}},\"marker\":{\"colorbar\":{\"outlinewidth\":0,\"ticks\":\"\"}}}],\"scattermapbox\":[{\"type\":\"scattermapbox\",\"marker\":{\"colorbar\":{\"outlinewidth\":0,\"ticks\":\"\"}}}],\"scatterternary\":[{\"type\":\"scatterternary\",\"marker\":{\"colorbar\":{\"outlinewidth\":0,\"ticks\":\"\"}}}],\"scattercarpet\":[{\"type\":\"scattercarpet\",\"marker\":{\"colorbar\":{\"outlinewidth\":0,\"ticks\":\"\"}}}],\"carpet\":[{\"aaxis\":{\"endlinecolor\":\"#2a3f5f\",\"gridcolor\":\"white\",\"linecolor\":\"white\",\"minorgridcolor\":\"white\",\"startlinecolor\":\"#2a3f5f\"},\"baxis\":{\"endlinecolor\":\"#2a3f5f\",\"gridcolor\":\"white\",\"linecolor\":\"white\",\"minorgridcolor\":\"white\",\"startlinecolor\":\"#2a3f5f\"},\"type\":\"carpet\"}],\"table\":[{\"cells\":{\"fill\":{\"color\":\"#EBF0F8\"},\"line\":{\"color\":\"white\"}},\"header\":{\"fill\":{\"color\":\"#C8D4E3\"},\"line\":{\"color\":\"white\"}},\"type\":\"table\"}],\"barpolar\":[{\"marker\":{\"line\":{\"color\":\"#E5ECF6\",\"width\":0.5},\"pattern\":{\"fillmode\":\"overlay\",\"size\":10,\"solidity\":0.2}},\"type\":\"barpolar\"}],\"pie\":[{\"automargin\":true,\"type\":\"pie\"}]},\"layout\":{\"autotypenumbers\":\"strict\",\"colorway\":[\"#636efa\",\"#EF553B\",\"#00cc96\",\"#ab63fa\",\"#FFA15A\",\"#19d3f3\",\"#FF6692\",\"#B6E880\",\"#FF97FF\",\"#FECB52\"],\"font\":{\"color\":\"#2a3f5f\"},\"hovermode\":\"closest\",\"hoverlabel\":{\"align\":\"left\"},\"paper_bgcolor\":\"white\",\"plot_bgcolor\":\"#E5ECF6\",\"polar\":{\"bgcolor\":\"#E5ECF6\",\"angularaxis\":{\"gridcolor\":\"white\",\"linecolor\":\"white\",\"ticks\":\"\"},\"radialaxis\":{\"gridcolor\":\"white\",\"linecolor\":\"white\",\"ticks\":\"\"}},\"ternary\":{\"bgcolor\":\"#E5ECF6\",\"aaxis\":{\"gridcolor\":\"white\",\"linecolor\":\"white\",\"ticks\":\"\"},\"baxis\":{\"gridcolor\":\"white\",\"linecolor\":\"white\",\"ticks\":\"\"},\"caxis\":{\"gridcolor\":\"white\",\"linecolor\":\"white\",\"ticks\":\"\"}},\"coloraxis\":{\"colorbar\":{\"outlinewidth\":0,\"ticks\":\"\"}},\"colorscale\":{\"sequential\":[[0.0,\"#0d0887\"],[0.1111111111111111,\"#46039f\"],[0.2222222222222222,\"#7201a8\"],[0.3333333333333333,\"#9c179e\"],[0.4444444444444444,\"#bd3786\"],[0.5555555555555556,\"#d8576b\"],[0.6666666666666666,\"#ed7953\"],[0.7777777777777778,\"#fb9f3a\"],[0.8888888888888888,\"#fdca26\"],[1.0,\"#f0f921\"]],\"sequentialminus\":[[0.0,\"#0d0887\"],[0.1111111111111111,\"#46039f\"],[0.2222222222222222,\"#7201a8\"],[0.3333333333333333,\"#9c179e\"],[0.4444444444444444,\"#bd3786\"],[0.5555555555555556,\"#d8576b\"],[0.6666666666666666,\"#ed7953\"],[0.7777777777777778,\"#fb9f3a\"],[0.8888888888888888,\"#fdca26\"],[1.0,\"#f0f921\"]],\"diverging\":[[0,\"#8e0152\"],[0.1,\"#c51b7d\"],[0.2,\"#de77ae\"],[0.3,\"#f1b6da\"],[0.4,\"#fde0ef\"],[0.5,\"#f7f7f7\"],[0.6,\"#e6f5d0\"],[0.7,\"#b8e186\"],[0.8,\"#7fbc41\"],[0.9,\"#4d9221\"],[1,\"#276419\"]]},\"xaxis\":{\"gridcolor\":\"white\",\"linecolor\":\"white\",\"ticks\":\"\",\"title\":{\"standoff\":15},\"zerolinecolor\":\"white\",\"automargin\":true,\"zerolinewidth\":2},\"yaxis\":{\"gridcolor\":\"white\",\"linecolor\":\"white\",\"ticks\":\"\",\"title\":{\"standoff\":15},\"zerolinecolor\":\"white\",\"automargin\":true,\"zerolinewidth\":2},\"scene\":{\"xaxis\":{\"backgroundcolor\":\"#E5ECF6\",\"gridcolor\":\"white\",\"linecolor\":\"white\",\"showbackground\":true,\"ticks\":\"\",\"zerolinecolor\":\"white\",\"gridwidth\":2},\"yaxis\":{\"backgroundcolor\":\"#E5ECF6\",\"gridcolor\":\"white\",\"linecolor\":\"white\",\"showbackground\":true,\"ticks\":\"\",\"zerolinecolor\":\"white\",\"gridwidth\":2},\"zaxis\":{\"backgroundcolor\":\"#E5ECF6\",\"gridcolor\":\"white\",\"linecolor\":\"white\",\"showbackground\":true,\"ticks\":\"\",\"zerolinecolor\":\"white\",\"gridwidth\":2}},\"shapedefaults\":{\"line\":{\"color\":\"#2a3f5f\"}},\"annotationdefaults\":{\"arrowcolor\":\"#2a3f5f\",\"arrowhead\":0,\"arrowwidth\":1},\"geo\":{\"bgcolor\":\"white\",\"landcolor\":\"#E5ECF6\",\"subunitcolor\":\"white\",\"showland\":true,\"showlakes\":true,\"lakecolor\":\"white\"},\"title\":{\"x\":0.05},\"mapbox\":{\"style\":\"light\"}}},\"yaxis\":{\"title\":{\"text\":\"Accuracy (%)\"},\"range\":[0,100]},\"title\":{\"text\":\"Accuracy by Tolerance Level\"},\"xaxis\":{\"title\":{\"text\":\"Tolerance\"}},\"showlegend\":false,\"height\":400},                        {\"responsive\": true}                    ).then(function(){\n",
              "                            \n",
              "var gd = document.getElementById('34002cbd-7a96-48f2-868e-20f05e1b86ec');\n",
              "var x = new MutationObserver(function (mutations, observer) {{\n",
              "        var display = window.getComputedStyle(gd).display;\n",
              "        if (!display || display === 'none') {{\n",
              "            console.log([gd, 'removed!']);\n",
              "            Plotly.purge(gd);\n",
              "            observer.disconnect();\n",
              "        }}\n",
              "}});\n",
              "\n",
              "// Listen for the removal of the full notebook cells\n",
              "var notebookContainer = gd.closest('#notebook-container');\n",
              "if (notebookContainer) {{\n",
              "    x.observe(notebookContainer, {childList: true});\n",
              "}}\n",
              "\n",
              "// Listen for the clearing of the current output cell\n",
              "var outputEl = gd.closest('.output');\n",
              "if (outputEl) {{\n",
              "    x.observe(outputEl, {childList: true});\n",
              "}}\n",
              "\n",
              "                        })                };                            </script>        </div>\n",
              "</body>\n",
              "</html>"
            ]
          },
          "metadata": {}
        }
      ],
      "source": [
        "# Create accuracy comparison chart\n",
        "tolerance_levels = ['Exact', '±2 pages', '±5 pages', '±10 pages']\n",
        "accuracy_values = [\n",
        "    summary['exact_match']/summary['total']*100,\n",
        "    summary['within_2_pages']/summary['total']*100,\n",
        "    summary['within_5_pages']/summary['total']*100,\n",
        "    summary['within_10_pages']/summary['total']*100\n",
        "]\n",
        "\n",
        "fig = go.Figure(data=[\n",
        "    go.Bar(\n",
        "        x=tolerance_levels,\n",
        "        y=accuracy_values,\n",
        "        text=[f'{v:.1f}%' for v in accuracy_values],\n",
        "        textposition='auto',\n",
        "        marker_color=['#ef4444', '#22c55e', '#3b82f6', '#a855f7']\n",
        "    )\n",
        "])\n",
        "\n",
        "fig.update_layout(\n",
        "    title='Accuracy by Tolerance Level',\n",
        "    xaxis_title='Tolerance',\n",
        "    yaxis_title='Accuracy (%)',\n",
        "    yaxis=dict(range=[0, 100]),\n",
        "    showlegend=False,\n",
        "    height=400\n",
        ")\n",
        "\n",
        "fig.show()"
      ]
    },
    {
      "cell_type": "code",
      "execution_count": 7,
      "id": "d50e4a82",
      "metadata": {
        "colab": {
          "base_uri": "https://localhost:8080/",
          "height": 417
        },
        "id": "d50e4a82",
        "outputId": "b07ac6ba-45e7-49d8-d434-2484ad606c0d"
      },
      "outputs": [
        {
          "output_type": "display_data",
          "data": {
            "text/html": [
              "<html>\n",
              "<head><meta charset=\"utf-8\" /></head>\n",
              "<body>\n",
              "    <div>            <script src=\"https://cdnjs.cloudflare.com/ajax/libs/mathjax/2.7.5/MathJax.js?config=TeX-AMS-MML_SVG\"></script><script type=\"text/javascript\">if (window.MathJax && window.MathJax.Hub && window.MathJax.Hub.Config) {window.MathJax.Hub.Config({SVG: {font: \"STIX-Web\"}});}</script>                <script type=\"text/javascript\">window.PlotlyConfig = {MathJaxConfig: 'local'};</script>\n",
              "        <script charset=\"utf-8\" src=\"https://cdn.plot.ly/plotly-2.35.2.min.js\"></script>                <div id=\"cd486162-dd9c-4ce3-8c49-d7a13cc358b9\" class=\"plotly-graph-div\" style=\"height:400px; width:100%;\"></div>            <script type=\"text/javascript\">                                    window.PLOTLYENV=window.PLOTLYENV || {};                                    if (document.getElementById(\"cd486162-dd9c-4ce3-8c49-d7a13cc358b9\")) {                    Plotly.newPlot(                        \"cd486162-dd9c-4ce3-8c49-d7a13cc358b9\",                        [{\"marker\":{\"color\":[\"#f59e0b\",\"#22c55e\"]},\"text\":[\"64%\\u003cbr\\u003eOCR + NLTK\",\"76%\\u003cbr\\u003ePyMuPDF Only\"],\"textposition\":\"auto\",\"x\":[\"Research\\n(Complex)\",\"Production\\n(Simple)\"],\"y\":[64,76],\"type\":\"bar\"}],                        {\"template\":{\"data\":{\"histogram2dcontour\":[{\"type\":\"histogram2dcontour\",\"colorbar\":{\"outlinewidth\":0,\"ticks\":\"\"},\"colorscale\":[[0.0,\"#0d0887\"],[0.1111111111111111,\"#46039f\"],[0.2222222222222222,\"#7201a8\"],[0.3333333333333333,\"#9c179e\"],[0.4444444444444444,\"#bd3786\"],[0.5555555555555556,\"#d8576b\"],[0.6666666666666666,\"#ed7953\"],[0.7777777777777778,\"#fb9f3a\"],[0.8888888888888888,\"#fdca26\"],[1.0,\"#f0f921\"]]}],\"choropleth\":[{\"type\":\"choropleth\",\"colorbar\":{\"outlinewidth\":0,\"ticks\":\"\"}}],\"histogram2d\":[{\"type\":\"histogram2d\",\"colorbar\":{\"outlinewidth\":0,\"ticks\":\"\"},\"colorscale\":[[0.0,\"#0d0887\"],[0.1111111111111111,\"#46039f\"],[0.2222222222222222,\"#7201a8\"],[0.3333333333333333,\"#9c179e\"],[0.4444444444444444,\"#bd3786\"],[0.5555555555555556,\"#d8576b\"],[0.6666666666666666,\"#ed7953\"],[0.7777777777777778,\"#fb9f3a\"],[0.8888888888888888,\"#fdca26\"],[1.0,\"#f0f921\"]]}],\"heatmap\":[{\"type\":\"heatmap\",\"colorbar\":{\"outlinewidth\":0,\"ticks\":\"\"},\"colorscale\":[[0.0,\"#0d0887\"],[0.1111111111111111,\"#46039f\"],[0.2222222222222222,\"#7201a8\"],[0.3333333333333333,\"#9c179e\"],[0.4444444444444444,\"#bd3786\"],[0.5555555555555556,\"#d8576b\"],[0.6666666666666666,\"#ed7953\"],[0.7777777777777778,\"#fb9f3a\"],[0.8888888888888888,\"#fdca26\"],[1.0,\"#f0f921\"]]}],\"heatmapgl\":[{\"type\":\"heatmapgl\",\"colorbar\":{\"outlinewidth\":0,\"ticks\":\"\"},\"colorscale\":[[0.0,\"#0d0887\"],[0.1111111111111111,\"#46039f\"],[0.2222222222222222,\"#7201a8\"],[0.3333333333333333,\"#9c179e\"],[0.4444444444444444,\"#bd3786\"],[0.5555555555555556,\"#d8576b\"],[0.6666666666666666,\"#ed7953\"],[0.7777777777777778,\"#fb9f3a\"],[0.8888888888888888,\"#fdca26\"],[1.0,\"#f0f921\"]]}],\"contourcarpet\":[{\"type\":\"contourcarpet\",\"colorbar\":{\"outlinewidth\":0,\"ticks\":\"\"}}],\"contour\":[{\"type\":\"contour\",\"colorbar\":{\"outlinewidth\":0,\"ticks\":\"\"},\"colorscale\":[[0.0,\"#0d0887\"],[0.1111111111111111,\"#46039f\"],[0.2222222222222222,\"#7201a8\"],[0.3333333333333333,\"#9c179e\"],[0.4444444444444444,\"#bd3786\"],[0.5555555555555556,\"#d8576b\"],[0.6666666666666666,\"#ed7953\"],[0.7777777777777778,\"#fb9f3a\"],[0.8888888888888888,\"#fdca26\"],[1.0,\"#f0f921\"]]}],\"surface\":[{\"type\":\"surface\",\"colorbar\":{\"outlinewidth\":0,\"ticks\":\"\"},\"colorscale\":[[0.0,\"#0d0887\"],[0.1111111111111111,\"#46039f\"],[0.2222222222222222,\"#7201a8\"],[0.3333333333333333,\"#9c179e\"],[0.4444444444444444,\"#bd3786\"],[0.5555555555555556,\"#d8576b\"],[0.6666666666666666,\"#ed7953\"],[0.7777777777777778,\"#fb9f3a\"],[0.8888888888888888,\"#fdca26\"],[1.0,\"#f0f921\"]]}],\"mesh3d\":[{\"type\":\"mesh3d\",\"colorbar\":{\"outlinewidth\":0,\"ticks\":\"\"}}],\"scatter\":[{\"fillpattern\":{\"fillmode\":\"overlay\",\"size\":10,\"solidity\":0.2},\"type\":\"scatter\"}],\"parcoords\":[{\"type\":\"parcoords\",\"line\":{\"colorbar\":{\"outlinewidth\":0,\"ticks\":\"\"}}}],\"scatterpolargl\":[{\"type\":\"scatterpolargl\",\"marker\":{\"colorbar\":{\"outlinewidth\":0,\"ticks\":\"\"}}}],\"bar\":[{\"error_x\":{\"color\":\"#2a3f5f\"},\"error_y\":{\"color\":\"#2a3f5f\"},\"marker\":{\"line\":{\"color\":\"#E5ECF6\",\"width\":0.5},\"pattern\":{\"fillmode\":\"overlay\",\"size\":10,\"solidity\":0.2}},\"type\":\"bar\"}],\"scattergeo\":[{\"type\":\"scattergeo\",\"marker\":{\"colorbar\":{\"outlinewidth\":0,\"ticks\":\"\"}}}],\"scatterpolar\":[{\"type\":\"scatterpolar\",\"marker\":{\"colorbar\":{\"outlinewidth\":0,\"ticks\":\"\"}}}],\"histogram\":[{\"marker\":{\"pattern\":{\"fillmode\":\"overlay\",\"size\":10,\"solidity\":0.2}},\"type\":\"histogram\"}],\"scattergl\":[{\"type\":\"scattergl\",\"marker\":{\"colorbar\":{\"outlinewidth\":0,\"ticks\":\"\"}}}],\"scatter3d\":[{\"type\":\"scatter3d\",\"line\":{\"colorbar\":{\"outlinewidth\":0,\"ticks\":\"\"}},\"marker\":{\"colorbar\":{\"outlinewidth\":0,\"ticks\":\"\"}}}],\"scattermapbox\":[{\"type\":\"scattermapbox\",\"marker\":{\"colorbar\":{\"outlinewidth\":0,\"ticks\":\"\"}}}],\"scatterternary\":[{\"type\":\"scatterternary\",\"marker\":{\"colorbar\":{\"outlinewidth\":0,\"ticks\":\"\"}}}],\"scattercarpet\":[{\"type\":\"scattercarpet\",\"marker\":{\"colorbar\":{\"outlinewidth\":0,\"ticks\":\"\"}}}],\"carpet\":[{\"aaxis\":{\"endlinecolor\":\"#2a3f5f\",\"gridcolor\":\"white\",\"linecolor\":\"white\",\"minorgridcolor\":\"white\",\"startlinecolor\":\"#2a3f5f\"},\"baxis\":{\"endlinecolor\":\"#2a3f5f\",\"gridcolor\":\"white\",\"linecolor\":\"white\",\"minorgridcolor\":\"white\",\"startlinecolor\":\"#2a3f5f\"},\"type\":\"carpet\"}],\"table\":[{\"cells\":{\"fill\":{\"color\":\"#EBF0F8\"},\"line\":{\"color\":\"white\"}},\"header\":{\"fill\":{\"color\":\"#C8D4E3\"},\"line\":{\"color\":\"white\"}},\"type\":\"table\"}],\"barpolar\":[{\"marker\":{\"line\":{\"color\":\"#E5ECF6\",\"width\":0.5},\"pattern\":{\"fillmode\":\"overlay\",\"size\":10,\"solidity\":0.2}},\"type\":\"barpolar\"}],\"pie\":[{\"automargin\":true,\"type\":\"pie\"}]},\"layout\":{\"autotypenumbers\":\"strict\",\"colorway\":[\"#636efa\",\"#EF553B\",\"#00cc96\",\"#ab63fa\",\"#FFA15A\",\"#19d3f3\",\"#FF6692\",\"#B6E880\",\"#FF97FF\",\"#FECB52\"],\"font\":{\"color\":\"#2a3f5f\"},\"hovermode\":\"closest\",\"hoverlabel\":{\"align\":\"left\"},\"paper_bgcolor\":\"white\",\"plot_bgcolor\":\"#E5ECF6\",\"polar\":{\"bgcolor\":\"#E5ECF6\",\"angularaxis\":{\"gridcolor\":\"white\",\"linecolor\":\"white\",\"ticks\":\"\"},\"radialaxis\":{\"gridcolor\":\"white\",\"linecolor\":\"white\",\"ticks\":\"\"}},\"ternary\":{\"bgcolor\":\"#E5ECF6\",\"aaxis\":{\"gridcolor\":\"white\",\"linecolor\":\"white\",\"ticks\":\"\"},\"baxis\":{\"gridcolor\":\"white\",\"linecolor\":\"white\",\"ticks\":\"\"},\"caxis\":{\"gridcolor\":\"white\",\"linecolor\":\"white\",\"ticks\":\"\"}},\"coloraxis\":{\"colorbar\":{\"outlinewidth\":0,\"ticks\":\"\"}},\"colorscale\":{\"sequential\":[[0.0,\"#0d0887\"],[0.1111111111111111,\"#46039f\"],[0.2222222222222222,\"#7201a8\"],[0.3333333333333333,\"#9c179e\"],[0.4444444444444444,\"#bd3786\"],[0.5555555555555556,\"#d8576b\"],[0.6666666666666666,\"#ed7953\"],[0.7777777777777778,\"#fb9f3a\"],[0.8888888888888888,\"#fdca26\"],[1.0,\"#f0f921\"]],\"sequentialminus\":[[0.0,\"#0d0887\"],[0.1111111111111111,\"#46039f\"],[0.2222222222222222,\"#7201a8\"],[0.3333333333333333,\"#9c179e\"],[0.4444444444444444,\"#bd3786\"],[0.5555555555555556,\"#d8576b\"],[0.6666666666666666,\"#ed7953\"],[0.7777777777777778,\"#fb9f3a\"],[0.8888888888888888,\"#fdca26\"],[1.0,\"#f0f921\"]],\"diverging\":[[0,\"#8e0152\"],[0.1,\"#c51b7d\"],[0.2,\"#de77ae\"],[0.3,\"#f1b6da\"],[0.4,\"#fde0ef\"],[0.5,\"#f7f7f7\"],[0.6,\"#e6f5d0\"],[0.7,\"#b8e186\"],[0.8,\"#7fbc41\"],[0.9,\"#4d9221\"],[1,\"#276419\"]]},\"xaxis\":{\"gridcolor\":\"white\",\"linecolor\":\"white\",\"ticks\":\"\",\"title\":{\"standoff\":15},\"zerolinecolor\":\"white\",\"automargin\":true,\"zerolinewidth\":2},\"yaxis\":{\"gridcolor\":\"white\",\"linecolor\":\"white\",\"ticks\":\"\",\"title\":{\"standoff\":15},\"zerolinecolor\":\"white\",\"automargin\":true,\"zerolinewidth\":2},\"scene\":{\"xaxis\":{\"backgroundcolor\":\"#E5ECF6\",\"gridcolor\":\"white\",\"linecolor\":\"white\",\"showbackground\":true,\"ticks\":\"\",\"zerolinecolor\":\"white\",\"gridwidth\":2},\"yaxis\":{\"backgroundcolor\":\"#E5ECF6\",\"gridcolor\":\"white\",\"linecolor\":\"white\",\"showbackground\":true,\"ticks\":\"\",\"zerolinecolor\":\"white\",\"gridwidth\":2},\"zaxis\":{\"backgroundcolor\":\"#E5ECF6\",\"gridcolor\":\"white\",\"linecolor\":\"white\",\"showbackground\":true,\"ticks\":\"\",\"zerolinecolor\":\"white\",\"gridwidth\":2}},\"shapedefaults\":{\"line\":{\"color\":\"#2a3f5f\"}},\"annotationdefaults\":{\"arrowcolor\":\"#2a3f5f\",\"arrowhead\":0,\"arrowwidth\":1},\"geo\":{\"bgcolor\":\"white\",\"landcolor\":\"#E5ECF6\",\"subunitcolor\":\"white\",\"showland\":true,\"showlakes\":true,\"lakecolor\":\"white\"},\"title\":{\"x\":0.05},\"mapbox\":{\"style\":\"light\"}}},\"yaxis\":{\"title\":{\"text\":\"Accuracy (% within ±2 pages)\"},\"range\":[0,100]},\"title\":{\"text\":\"Production vs Research: Simpler Won! \"},\"showlegend\":false,\"height\":400,\"annotations\":[{\"arrowhead\":2,\"font\":{\"color\":\"green\",\"size\":14},\"showarrow\":true,\"text\":\"+12% improvement!\",\"x\":1,\"y\":76}]},                        {\"responsive\": true}                    ).then(function(){\n",
              "                            \n",
              "var gd = document.getElementById('cd486162-dd9c-4ce3-8c49-d7a13cc358b9');\n",
              "var x = new MutationObserver(function (mutations, observer) {{\n",
              "        var display = window.getComputedStyle(gd).display;\n",
              "        if (!display || display === 'none') {{\n",
              "            console.log([gd, 'removed!']);\n",
              "            Plotly.purge(gd);\n",
              "            observer.disconnect();\n",
              "        }}\n",
              "}});\n",
              "\n",
              "// Listen for the removal of the full notebook cells\n",
              "var notebookContainer = gd.closest('#notebook-container');\n",
              "if (notebookContainer) {{\n",
              "    x.observe(notebookContainer, {childList: true});\n",
              "}}\n",
              "\n",
              "// Listen for the clearing of the current output cell\n",
              "var outputEl = gd.closest('.output');\n",
              "if (outputEl) {{\n",
              "    x.observe(outputEl, {childList: true});\n",
              "}}\n",
              "\n",
              "                        })                };                            </script>        </div>\n",
              "</body>\n",
              "</html>"
            ]
          },
          "metadata": {}
        }
      ],
      "source": [
        "# Production vs Research Comparison\n",
        "comparison_data = {\n",
        "    'Version': ['Research\\n(Complex)', 'Production\\n(Simple)'],\n",
        "    'Accuracy': [64, 76],\n",
        "    'Approach': ['OCR + NLTK', 'PyMuPDF Only']\n",
        "}\n",
        "\n",
        "fig = go.Figure(data=[\n",
        "    go.Bar(\n",
        "        x=comparison_data['Version'],\n",
        "        y=comparison_data['Accuracy'],\n",
        "        text=[f\"{v}%<br>{a}\" for v, a in zip(comparison_data['Accuracy'], comparison_data['Approach'])],\n",
        "        textposition='auto',\n",
        "        marker_color=['#f59e0b', '#22c55e']\n",
        "    )\n",
        "])\n",
        "\n",
        "fig.update_layout(\n",
        "    title='Production vs Research: Simpler Won! ',\n",
        "    yaxis_title='Accuracy (% within ±2 pages)',\n",
        "    yaxis=dict(range=[0, 100]),\n",
        "    showlegend=False,\n",
        "    height=400,\n",
        "    annotations=[{\n",
        "        'x': 1, 'y': 76,\n",
        "        'text': '+12% improvement!',\n",
        "        'showarrow': True,\n",
        "        'arrowhead': 2,\n",
        "        'font': {'size': 14, 'color': 'green'}\n",
        "    }]\n",
        ")\n",
        "\n",
        "fig.show()"
      ]
    },
    {
      "cell_type": "markdown",
      "metadata": {
        "id": "2a70b3bd"
      },
      "source": [
        "###  Why Did Simpler Win?\n",
        "\n",
        "\n",
        "**Explanation:**\n",
        "\n",
        "It is counterintuitive that the simpler approach outperformed the more complex one in this case. Initial expectations favored the research prototype, which incorporated OCR and NLTK for deeper text processing, assuming this would yield greater precision. However, the production system, which relied solely on PyMuPDF for text extraction, achieved a 12% higher accuracy within a ±2 page tolerance.\n",
        "\n",
        "Several factors likely contributed to this outcome:\n",
        "\n",
        "1.  **OCR-Introduced Noise:** Optical Character Recognition (OCR), while a valuable tool, can introduce errors and noise into the text, particularly with technical documents featuring complex layouts, diagrams, or less common fonts. This noise could have adversely affected the NLTK processing and subsequent embedding and retrieval stages.\n",
        "2.  **Complexity of NLTK Processing:** While NLTK is a powerful library, its application for extensive text processing might have added unnecessary complexity. Steps such as tokenization, stemming, and other transformations could have inadvertently removed or altered crucial information necessary for accurate retrieval, especially concerning specific technical terminology.\n",
        "3.  **PyMuPDF's Directness and Robustness:** PyMuPDF extracts text directly from the PDF's structural information. This method is likely more robust to the specific formatting of the manual and introduces fewer errors compared to the OCR process. A cleaner text input naturally leads to more accurate embeddings and improved retrieval performance.\n",
        "4.  **Focus on Core RAG Components:** The simpler approach allowed for a greater focus on the fundamental components of a Retrieval Augmented Generation (RAG) system: effective document chunking, the selection of appropriate embeddings, and the utilization of a capable Large Language Model (LLM). By mitigating potential issues introduced by OCR and complex NLP pre-processing, the system could leverage these core elements more effectively.\n",
        "\n",
        "This experience provided a valuable lesson and reinforcing the principle that complexity does not automatically equate to superior performance. Often, a simpler, more direct approach can prove more robust and effective. Key takeaways from this experience include the importance of:\n",
        "\n",
        "*   **Questioning Assumptions:** Avoid assuming that more complex tools or pipelines will inherently produce better results.\n",
        "*   **Understanding the Data:** The nature of the input data (a structured PDF) was better suited to a direct extraction method like PyMuPDF.\n",
        "*   **Prioritizing Core Functionality:** Focusing on the essential aspects of the RAG pipeline, with retrieval accuracy being paramount, had a more significant impact than adding layers of complex processing.\n",
        "\n",
        "Adding complexity should be a deliberate decision, undertaken only after simpler options have been thoroughly explored and when the anticipated benefits clearly outweigh the potential for introducing errors and increasing maintenance overhead. In this specific case, the more complex approach introduced more challenges than it resolved."
      ],
      "id": "2a70b3bd"
    },
    {
      "cell_type": "markdown",
      "id": "9511cdc3",
      "metadata": {
        "id": "9511cdc3"
      },
      "source": [
        "<a name=\"categories\"></a>\n",
        "## 6. Category Performance Analysis"
      ]
    },
    {
      "cell_type": "code",
      "execution_count": 8,
      "id": "7e8e98ed",
      "metadata": {
        "colab": {
          "base_uri": "https://localhost:8080/",
          "height": 591
        },
        "id": "7e8e98ed",
        "outputId": "bfcaf173-bfec-4071-c47f-386675e2379e"
      },
      "outputs": [
        {
          "output_type": "stream",
          "name": "stdout",
          "text": [
            "\n",
            " Performance by Question Category:\n",
            "\n",
            "                  correct  total  accuracy\n",
            "System Knowledge      7.0    8.0      87.5\n",
            "Advanced Systems      5.0    6.0      83.3\n",
            "Maintenance           7.0    9.0      77.8\n",
            "Safety                6.0    8.0      75.0\n",
            "Troubleshooting       6.0    8.0      75.0\n",
            "Miscellaneous         7.0   11.0      63.6\n"
          ]
        },
        {
          "output_type": "display_data",
          "data": {
            "text/html": [
              "<html>\n",
              "<head><meta charset=\"utf-8\" /></head>\n",
              "<body>\n",
              "    <div>            <script src=\"https://cdnjs.cloudflare.com/ajax/libs/mathjax/2.7.5/MathJax.js?config=TeX-AMS-MML_SVG\"></script><script type=\"text/javascript\">if (window.MathJax && window.MathJax.Hub && window.MathJax.Hub.Config) {window.MathJax.Hub.Config({SVG: {font: \"STIX-Web\"}});}</script>                <script type=\"text/javascript\">window.PlotlyConfig = {MathJaxConfig: 'local'};</script>\n",
              "        <script charset=\"utf-8\" src=\"https://cdn.plot.ly/plotly-2.35.2.min.js\"></script>                <div id=\"7efa20e5-2c12-4183-b252-65e553daaeeb\" class=\"plotly-graph-div\" style=\"height:400px; width:100%;\"></div>            <script type=\"text/javascript\">                                    window.PLOTLYENV=window.PLOTLYENV || {};                                    if (document.getElementById(\"7efa20e5-2c12-4183-b252-65e553daaeeb\")) {                    Plotly.newPlot(                        \"7efa20e5-2c12-4183-b252-65e553daaeeb\",                        [{\"alignmentgroup\":\"True\",\"hovertemplate\":\"Accuracy (%)=%{marker.color}\\u003cbr\\u003eCategory=%{y}\\u003cextra\\u003e\\u003c\\u002fextra\\u003e\",\"legendgroup\":\"\",\"marker\":{\"color\":[87.5,83.3,77.8,75.0,75.0,63.6],\"coloraxis\":\"coloraxis\",\"pattern\":{\"shape\":\"\"}},\"name\":\"\",\"offsetgroup\":\"\",\"orientation\":\"h\",\"showlegend\":false,\"text\":[87.5,83.3,77.8,75.0,75.0,63.6],\"textposition\":\"outside\",\"x\":[87.5,83.3,77.8,75.0,75.0,63.6],\"xaxis\":\"x\",\"y\":[\"System Knowledge\",\"Advanced Systems\",\"Maintenance\",\"Safety\",\"Troubleshooting\",\"Miscellaneous\"],\"yaxis\":\"y\",\"type\":\"bar\",\"texttemplate\":\"%{text:.1f}%\"}],                        {\"template\":{\"data\":{\"histogram2dcontour\":[{\"type\":\"histogram2dcontour\",\"colorbar\":{\"outlinewidth\":0,\"ticks\":\"\"},\"colorscale\":[[0.0,\"#0d0887\"],[0.1111111111111111,\"#46039f\"],[0.2222222222222222,\"#7201a8\"],[0.3333333333333333,\"#9c179e\"],[0.4444444444444444,\"#bd3786\"],[0.5555555555555556,\"#d8576b\"],[0.6666666666666666,\"#ed7953\"],[0.7777777777777778,\"#fb9f3a\"],[0.8888888888888888,\"#fdca26\"],[1.0,\"#f0f921\"]]}],\"choropleth\":[{\"type\":\"choropleth\",\"colorbar\":{\"outlinewidth\":0,\"ticks\":\"\"}}],\"histogram2d\":[{\"type\":\"histogram2d\",\"colorbar\":{\"outlinewidth\":0,\"ticks\":\"\"},\"colorscale\":[[0.0,\"#0d0887\"],[0.1111111111111111,\"#46039f\"],[0.2222222222222222,\"#7201a8\"],[0.3333333333333333,\"#9c179e\"],[0.4444444444444444,\"#bd3786\"],[0.5555555555555556,\"#d8576b\"],[0.6666666666666666,\"#ed7953\"],[0.7777777777777778,\"#fb9f3a\"],[0.8888888888888888,\"#fdca26\"],[1.0,\"#f0f921\"]]}],\"heatmap\":[{\"type\":\"heatmap\",\"colorbar\":{\"outlinewidth\":0,\"ticks\":\"\"},\"colorscale\":[[0.0,\"#0d0887\"],[0.1111111111111111,\"#46039f\"],[0.2222222222222222,\"#7201a8\"],[0.3333333333333333,\"#9c179e\"],[0.4444444444444444,\"#bd3786\"],[0.5555555555555556,\"#d8576b\"],[0.6666666666666666,\"#ed7953\"],[0.7777777777777778,\"#fb9f3a\"],[0.8888888888888888,\"#fdca26\"],[1.0,\"#f0f921\"]]}],\"heatmapgl\":[{\"type\":\"heatmapgl\",\"colorbar\":{\"outlinewidth\":0,\"ticks\":\"\"},\"colorscale\":[[0.0,\"#0d0887\"],[0.1111111111111111,\"#46039f\"],[0.2222222222222222,\"#7201a8\"],[0.3333333333333333,\"#9c179e\"],[0.4444444444444444,\"#bd3786\"],[0.5555555555555556,\"#d8576b\"],[0.6666666666666666,\"#ed7953\"],[0.7777777777777778,\"#fb9f3a\"],[0.8888888888888888,\"#fdca26\"],[1.0,\"#f0f921\"]]}],\"contourcarpet\":[{\"type\":\"contourcarpet\",\"colorbar\":{\"outlinewidth\":0,\"ticks\":\"\"}}],\"contour\":[{\"type\":\"contour\",\"colorbar\":{\"outlinewidth\":0,\"ticks\":\"\"},\"colorscale\":[[0.0,\"#0d0887\"],[0.1111111111111111,\"#46039f\"],[0.2222222222222222,\"#7201a8\"],[0.3333333333333333,\"#9c179e\"],[0.4444444444444444,\"#bd3786\"],[0.5555555555555556,\"#d8576b\"],[0.6666666666666666,\"#ed7953\"],[0.7777777777777778,\"#fb9f3a\"],[0.8888888888888888,\"#fdca26\"],[1.0,\"#f0f921\"]]}],\"surface\":[{\"type\":\"surface\",\"colorbar\":{\"outlinewidth\":0,\"ticks\":\"\"},\"colorscale\":[[0.0,\"#0d0887\"],[0.1111111111111111,\"#46039f\"],[0.2222222222222222,\"#7201a8\"],[0.3333333333333333,\"#9c179e\"],[0.4444444444444444,\"#bd3786\"],[0.5555555555555556,\"#d8576b\"],[0.6666666666666666,\"#ed7953\"],[0.7777777777777778,\"#fb9f3a\"],[0.8888888888888888,\"#fdca26\"],[1.0,\"#f0f921\"]]}],\"mesh3d\":[{\"type\":\"mesh3d\",\"colorbar\":{\"outlinewidth\":0,\"ticks\":\"\"}}],\"scatter\":[{\"fillpattern\":{\"fillmode\":\"overlay\",\"size\":10,\"solidity\":0.2},\"type\":\"scatter\"}],\"parcoords\":[{\"type\":\"parcoords\",\"line\":{\"colorbar\":{\"outlinewidth\":0,\"ticks\":\"\"}}}],\"scatterpolargl\":[{\"type\":\"scatterpolargl\",\"marker\":{\"colorbar\":{\"outlinewidth\":0,\"ticks\":\"\"}}}],\"bar\":[{\"error_x\":{\"color\":\"#2a3f5f\"},\"error_y\":{\"color\":\"#2a3f5f\"},\"marker\":{\"line\":{\"color\":\"#E5ECF6\",\"width\":0.5},\"pattern\":{\"fillmode\":\"overlay\",\"size\":10,\"solidity\":0.2}},\"type\":\"bar\"}],\"scattergeo\":[{\"type\":\"scattergeo\",\"marker\":{\"colorbar\":{\"outlinewidth\":0,\"ticks\":\"\"}}}],\"scatterpolar\":[{\"type\":\"scatterpolar\",\"marker\":{\"colorbar\":{\"outlinewidth\":0,\"ticks\":\"\"}}}],\"histogram\":[{\"marker\":{\"pattern\":{\"fillmode\":\"overlay\",\"size\":10,\"solidity\":0.2}},\"type\":\"histogram\"}],\"scattergl\":[{\"type\":\"scattergl\",\"marker\":{\"colorbar\":{\"outlinewidth\":0,\"ticks\":\"\"}}}],\"scatter3d\":[{\"type\":\"scatter3d\",\"line\":{\"colorbar\":{\"outlinewidth\":0,\"ticks\":\"\"}},\"marker\":{\"colorbar\":{\"outlinewidth\":0,\"ticks\":\"\"}}}],\"scattermapbox\":[{\"type\":\"scattermapbox\",\"marker\":{\"colorbar\":{\"outlinewidth\":0,\"ticks\":\"\"}}}],\"scatterternary\":[{\"type\":\"scatterternary\",\"marker\":{\"colorbar\":{\"outlinewidth\":0,\"ticks\":\"\"}}}],\"scattercarpet\":[{\"type\":\"scattercarpet\",\"marker\":{\"colorbar\":{\"outlinewidth\":0,\"ticks\":\"\"}}}],\"carpet\":[{\"aaxis\":{\"endlinecolor\":\"#2a3f5f\",\"gridcolor\":\"white\",\"linecolor\":\"white\",\"minorgridcolor\":\"white\",\"startlinecolor\":\"#2a3f5f\"},\"baxis\":{\"endlinecolor\":\"#2a3f5f\",\"gridcolor\":\"white\",\"linecolor\":\"white\",\"minorgridcolor\":\"white\",\"startlinecolor\":\"#2a3f5f\"},\"type\":\"carpet\"}],\"table\":[{\"cells\":{\"fill\":{\"color\":\"#EBF0F8\"},\"line\":{\"color\":\"white\"}},\"header\":{\"fill\":{\"color\":\"#C8D4E3\"},\"line\":{\"color\":\"white\"}},\"type\":\"table\"}],\"barpolar\":[{\"marker\":{\"line\":{\"color\":\"#E5ECF6\",\"width\":0.5},\"pattern\":{\"fillmode\":\"overlay\",\"size\":10,\"solidity\":0.2}},\"type\":\"barpolar\"}],\"pie\":[{\"automargin\":true,\"type\":\"pie\"}]},\"layout\":{\"autotypenumbers\":\"strict\",\"colorway\":[\"#636efa\",\"#EF553B\",\"#00cc96\",\"#ab63fa\",\"#FFA15A\",\"#19d3f3\",\"#FF6692\",\"#B6E880\",\"#FF97FF\",\"#FECB52\"],\"font\":{\"color\":\"#2a3f5f\"},\"hovermode\":\"closest\",\"hoverlabel\":{\"align\":\"left\"},\"paper_bgcolor\":\"white\",\"plot_bgcolor\":\"#E5ECF6\",\"polar\":{\"bgcolor\":\"#E5ECF6\",\"angularaxis\":{\"gridcolor\":\"white\",\"linecolor\":\"white\",\"ticks\":\"\"},\"radialaxis\":{\"gridcolor\":\"white\",\"linecolor\":\"white\",\"ticks\":\"\"}},\"ternary\":{\"bgcolor\":\"#E5ECF6\",\"aaxis\":{\"gridcolor\":\"white\",\"linecolor\":\"white\",\"ticks\":\"\"},\"baxis\":{\"gridcolor\":\"white\",\"linecolor\":\"white\",\"ticks\":\"\"},\"caxis\":{\"gridcolor\":\"white\",\"linecolor\":\"white\",\"ticks\":\"\"}},\"coloraxis\":{\"colorbar\":{\"outlinewidth\":0,\"ticks\":\"\"}},\"colorscale\":{\"sequential\":[[0.0,\"#0d0887\"],[0.1111111111111111,\"#46039f\"],[0.2222222222222222,\"#7201a8\"],[0.3333333333333333,\"#9c179e\"],[0.4444444444444444,\"#bd3786\"],[0.5555555555555556,\"#d8576b\"],[0.6666666666666666,\"#ed7953\"],[0.7777777777777778,\"#fb9f3a\"],[0.8888888888888888,\"#fdca26\"],[1.0,\"#f0f921\"]],\"sequentialminus\":[[0.0,\"#0d0887\"],[0.1111111111111111,\"#46039f\"],[0.2222222222222222,\"#7201a8\"],[0.3333333333333333,\"#9c179e\"],[0.4444444444444444,\"#bd3786\"],[0.5555555555555556,\"#d8576b\"],[0.6666666666666666,\"#ed7953\"],[0.7777777777777778,\"#fb9f3a\"],[0.8888888888888888,\"#fdca26\"],[1.0,\"#f0f921\"]],\"diverging\":[[0,\"#8e0152\"],[0.1,\"#c51b7d\"],[0.2,\"#de77ae\"],[0.3,\"#f1b6da\"],[0.4,\"#fde0ef\"],[0.5,\"#f7f7f7\"],[0.6,\"#e6f5d0\"],[0.7,\"#b8e186\"],[0.8,\"#7fbc41\"],[0.9,\"#4d9221\"],[1,\"#276419\"]]},\"xaxis\":{\"gridcolor\":\"white\",\"linecolor\":\"white\",\"ticks\":\"\",\"title\":{\"standoff\":15},\"zerolinecolor\":\"white\",\"automargin\":true,\"zerolinewidth\":2},\"yaxis\":{\"gridcolor\":\"white\",\"linecolor\":\"white\",\"ticks\":\"\",\"title\":{\"standoff\":15},\"zerolinecolor\":\"white\",\"automargin\":true,\"zerolinewidth\":2},\"scene\":{\"xaxis\":{\"backgroundcolor\":\"#E5ECF6\",\"gridcolor\":\"white\",\"linecolor\":\"white\",\"showbackground\":true,\"ticks\":\"\",\"zerolinecolor\":\"white\",\"gridwidth\":2},\"yaxis\":{\"backgroundcolor\":\"#E5ECF6\",\"gridcolor\":\"white\",\"linecolor\":\"white\",\"showbackground\":true,\"ticks\":\"\",\"zerolinecolor\":\"white\",\"gridwidth\":2},\"zaxis\":{\"backgroundcolor\":\"#E5ECF6\",\"gridcolor\":\"white\",\"linecolor\":\"white\",\"showbackground\":true,\"ticks\":\"\",\"zerolinecolor\":\"white\",\"gridwidth\":2}},\"shapedefaults\":{\"line\":{\"color\":\"#2a3f5f\"}},\"annotationdefaults\":{\"arrowcolor\":\"#2a3f5f\",\"arrowhead\":0,\"arrowwidth\":1},\"geo\":{\"bgcolor\":\"white\",\"landcolor\":\"#E5ECF6\",\"subunitcolor\":\"white\",\"showland\":true,\"showlakes\":true,\"lakecolor\":\"white\"},\"title\":{\"x\":0.05},\"mapbox\":{\"style\":\"light\"}}},\"xaxis\":{\"anchor\":\"y\",\"domain\":[0.0,1.0],\"title\":{\"text\":\"Accuracy (%)\"}},\"yaxis\":{\"anchor\":\"x\",\"domain\":[0.0,1.0],\"title\":{\"text\":\"Category\"}},\"coloraxis\":{\"colorbar\":{\"title\":{\"text\":\"Accuracy (%)\"}},\"colorscale\":[[0.0,\"rgb(165,0,38)\"],[0.1,\"rgb(215,48,39)\"],[0.2,\"rgb(244,109,67)\"],[0.3,\"rgb(253,174,97)\"],[0.4,\"rgb(254,224,139)\"],[0.5,\"rgb(255,255,191)\"],[0.6,\"rgb(217,239,139)\"],[0.7,\"rgb(166,217,106)\"],[0.8,\"rgb(102,189,99)\"],[0.9,\"rgb(26,152,80)\"],[1.0,\"rgb(0,104,55)\"]]},\"legend\":{\"tracegroupgap\":0},\"title\":{\"text\":\"Accuracy by Question Category\"},\"barmode\":\"relative\",\"height\":400,\"showlegend\":false},                        {\"responsive\": true}                    ).then(function(){\n",
              "                            \n",
              "var gd = document.getElementById('7efa20e5-2c12-4183-b252-65e553daaeeb');\n",
              "var x = new MutationObserver(function (mutations, observer) {{\n",
              "        var display = window.getComputedStyle(gd).display;\n",
              "        if (!display || display === 'none') {{\n",
              "            console.log([gd, 'removed!']);\n",
              "            Plotly.purge(gd);\n",
              "            observer.disconnect();\n",
              "        }}\n",
              "}});\n",
              "\n",
              "// Listen for the removal of the full notebook cells\n",
              "var notebookContainer = gd.closest('#notebook-container');\n",
              "if (notebookContainer) {{\n",
              "    x.observe(notebookContainer, {childList: true});\n",
              "}}\n",
              "\n",
              "// Listen for the clearing of the current output cell\n",
              "var outputEl = gd.closest('.output');\n",
              "if (outputEl) {{\n",
              "    x.observe(outputEl, {childList: true});\n",
              "}}\n",
              "\n",
              "                        })                };                            </script>        </div>\n",
              "</body>\n",
              "</html>"
            ]
          },
          "metadata": {}
        }
      ],
      "source": [
        "# Category performance data\n",
        "categories = {\n",
        "    'System Knowledge': {'correct': 7, 'total': 8, 'accuracy': 87.5},\n",
        "    'Advanced Systems': {'correct': 5, 'total': 6, 'accuracy': 83.3},\n",
        "    'Maintenance': {'correct': 7, 'total': 9, 'accuracy': 77.8},\n",
        "    'Safety': {'correct': 6, 'total': 8, 'accuracy': 75.0},\n",
        "    'Troubleshooting': {'correct': 6, 'total': 8, 'accuracy': 75.0},\n",
        "    'Miscellaneous': {'correct': 7, 'total': 11, 'accuracy': 63.6}\n",
        "}\n",
        "\n",
        "# Create DataFrame\n",
        "cat_df = pd.DataFrame(categories).T\n",
        "cat_df = cat_df.sort_values('accuracy', ascending=False)\n",
        "\n",
        "# Display table\n",
        "print(\"\\n Performance by Question Category:\\n\")\n",
        "print(cat_df.to_string())\n",
        "\n",
        "# Create bar chart\n",
        "fig = px.bar(\n",
        "    cat_df,\n",
        "    y=cat_df.index,\n",
        "    x='accuracy',\n",
        "    orientation='h',\n",
        "    text='accuracy',\n",
        "    title='Accuracy by Question Category',\n",
        "    labels={'accuracy': 'Accuracy (%)', 'index': 'Category'},\n",
        "    color='accuracy',\n",
        "    color_continuous_scale='RdYlGn'\n",
        ")\n",
        "\n",
        "fig.update_traces(texttemplate='%{text:.1f}%', textposition='outside')\n",
        "fig.update_layout(height=400, showlegend=False)\n",
        "fig.show()"
      ]
    },
    {
      "cell_type": "markdown",
      "metadata": {
        "id": "ebd7a93c"
      },
      "source": [
        "### Category Analysis\n",
        "\n",
        "**Analysis by Category:**\n",
        "\n",
        "**System Knowledge (87.5% Accuracy):**\n",
        "-   **Reasoning for Performance:** High accuracy is likely due to well-defined facts and specific descriptions in dedicated manual sections, facilitating precise retrieval.\n",
        "-   **Question Characteristics:** Generally easier due to clear, direct answers requiring minimal interpretation.\n",
        "-   **Improvement Focus:** Ensure comprehensive chunking of system description sections.\n",
        "\n",
        "**Advanced Systems (83.3% Accuracy):**\n",
        "-   **Reasoning for Performance:** Performance is strong, likely because questions pertain to specific features detailed in distinct manual sections with precise language.\n",
        "-   **Question Characteristics:** Relatively straightforward lookups when the correct section is identified.\n",
        "-   **Improvement Focus:** Enhance accurate retrieval for details regarding complex system interactions.\n",
        "\n",
        "**Maintenance (77.8% Accuracy):**\n",
        "-   **Reasoning for Performance:** Good performance attributed to the structured, step-by-step format and clear language often found in maintenance procedures.\n",
        "-   **Question Characteristics:** Can be slightly challenging if requiring sequential understanding or specific values, but text structure aids retrieval.\n",
        "-   **Improvement Focus:** Optimize chunking methods to preserve sequential information within procedures.\n",
        "\n",
        "**Safety (75.0% Accuracy):**\n",
        "-   **Reasoning for Performance:** Solid performance, possibly due to safety information being highlighted and potentially repeated, increasing its prominence for retrieval.\n",
        "-   **Question Characteristics:** Critical but can be harder if requiring contextual understanding beyond direct facts. Information may also be distributed.\n",
        "-   **Improvement Focus:** Analyze the impact of text formatting on extraction and embedding; ensure comprehensive representation of warnings.\n",
        "\n",
        "**Troubleshooting (75.0% Accuracy):**\n",
        "-   **Reasoning for Performance:** Consistent performance, likely benefiting from specific vocabulary related to problems, symptoms, and solutions used in troubleshooting sections.\n",
        "-   **Question Characteristics:** Challenging as it requires matching user problem descriptions to manual terminology and potentially handling conditional logic.\n",
        "-   **Improvement Focus:** Enhance the system's ability to process synonyms and variations in problem descriptions.\n",
        "\n",
        "**Miscellaneous (63.6% Accuracy):**\n",
        "-   **Reasoning for Performance:** Lower accuracy is likely due to the broad and diffuse nature of information in this category, which lacks a specific topic focus and may be spread across the manual.\n",
        "-   **Question Characteristics:** Most challenging due to varied topics and scattered information.\n",
        "-   **Improvement Focus:** Analyze question types within this category for potential sub-patterns; consider methods for incorporating broader contextual understanding."
      ],
      "id": "ebd7a93c"
    },
    {
      "cell_type": "markdown",
      "id": "c11bf99c",
      "metadata": {
        "id": "c11bf99c"
      },
      "source": [
        "<a name=\"visualizations\"></a>\n",
        "## 7. Visualizations"
      ]
    },
    {
      "cell_type": "code",
      "execution_count": 9,
      "id": "ad1a47fe",
      "metadata": {
        "colab": {
          "base_uri": "https://localhost:8080/",
          "height": 1000
        },
        "id": "ad1a47fe",
        "outputId": "1e220e31-9fdf-4b68-f1ed-d6cadb476cc0"
      },
      "outputs": [
        {
          "output_type": "stream",
          "name": "stdout",
          "text": [
            "\n",
            "### Improvement Journey\n"
          ]
        },
        {
          "output_type": "display_data",
          "data": {
            "text/html": [
              "<img src=\"https://raw.githubusercontent.com/agapemiteu/ManualAi/main/analysis/improvement_journey.png\" width=\"800\"/>"
            ],
            "text/plain": [
              "<IPython.core.display.Image object>"
            ]
          },
          "metadata": {}
        },
        {
          "output_type": "stream",
          "name": "stdout",
          "text": [
            "\n",
            "<!-- ADD YOUR INTERPRETATION OF THIS CHART HERE -->\n",
            "\n",
            "\n",
            "### Performance Comparison\n"
          ]
        },
        {
          "output_type": "display_data",
          "data": {
            "text/html": [
              "<img src=\"https://raw.githubusercontent.com/agapemiteu/ManualAi/main/analysis/performance_comparison.png\" width=\"800\"/>"
            ],
            "text/plain": [
              "<IPython.core.display.Image object>"
            ]
          },
          "metadata": {}
        },
        {
          "output_type": "stream",
          "name": "stdout",
          "text": [
            "\n",
            "<!-- ADD YOUR INTERPRETATION OF THIS CHART HERE -->\n",
            "\n",
            "\n",
            "### Tolerance Analysis\n"
          ]
        },
        {
          "output_type": "display_data",
          "data": {
            "text/html": [
              "<img src=\"https://raw.githubusercontent.com/agapemiteu/ManualAi/main/analysis/tolerance_analysis.png\" width=\"800\"/>"
            ],
            "text/plain": [
              "<IPython.core.display.Image object>"
            ]
          },
          "metadata": {}
        },
        {
          "output_type": "stream",
          "name": "stdout",
          "text": [
            "\n",
            "<!-- ADD YOUR INTERPRETATION OF THIS CHART HERE -->\n",
            "\n",
            "\n",
            "### Error Distribution\n"
          ]
        },
        {
          "output_type": "display_data",
          "data": {
            "text/html": [
              "<img src=\"https://raw.githubusercontent.com/agapemiteu/ManualAi/main/analysis/error_distribution.png\" width=\"800\"/>"
            ],
            "text/plain": [
              "<IPython.core.display.Image object>"
            ]
          },
          "metadata": {}
        },
        {
          "output_type": "stream",
          "name": "stdout",
          "text": [
            "\n",
            "<!-- ADD YOUR INTERPRETATION OF THIS CHART HERE -->\n",
            "\n",
            "\n",
            "### Component Contribution\n"
          ]
        },
        {
          "output_type": "display_data",
          "data": {
            "text/html": [
              "<img src=\"https://raw.githubusercontent.com/agapemiteu/ManualAi/main/analysis/component_contribution.png\" width=\"800\"/>"
            ],
            "text/plain": [
              "<IPython.core.display.Image object>"
            ]
          },
          "metadata": {}
        },
        {
          "output_type": "stream",
          "name": "stdout",
          "text": [
            "\n",
            "<!-- ADD YOUR INTERPRETATION OF THIS CHART HERE -->\n",
            "\n",
            "\n",
            "### Latency Comparison\n"
          ]
        },
        {
          "output_type": "display_data",
          "data": {
            "text/html": [
              "<img src=\"https://raw.githubusercontent.com/agapemiteu/ManualAi/main/analysis/latency_comparison.png\" width=\"800\"/>"
            ],
            "text/plain": [
              "<IPython.core.display.Image object>"
            ]
          },
          "metadata": {}
        },
        {
          "output_type": "stream",
          "name": "stdout",
          "text": [
            "\n",
            "<!-- ADD YOUR INTERPRETATION OF THIS CHART HERE -->\n",
            "\n"
          ]
        }
      ],
      "source": [
        "# Display images from GitHub\n",
        "base_url = \"https://raw.githubusercontent.com/agapemiteu/ManualAi/main/analysis/\"\n",
        "\n",
        "images = [\n",
        "    \"improvement_journey.png\",\n",
        "    \"performance_comparison.png\",\n",
        "    \"tolerance_analysis.png\",\n",
        "    \"error_distribution.png\",\n",
        "    \"component_contribution.png\",\n",
        "    \"latency_comparison.png\"\n",
        "]\n",
        "\n",
        "for img_name in images:\n",
        "    print(f\"\\n### {img_name.replace('_', ' ').replace('.png', '').title()}\")\n",
        "    display(Image(url=base_url + img_name, width=800))\n",
        "    print(f\"\\n<!-- ADD YOUR INTERPRETATION OF THIS CHART HERE -->\\n\")"
      ]
    },
    {
      "cell_type": "markdown",
      "id": "9462bb53",
      "metadata": {
        "id": "9462bb53"
      },
      "source": [
        "<a name=\"technical\"></a>\n",
        "## 8. Technical Deep Dive"
      ]
    },
    {
      "cell_type": "markdown",
      "metadata": {
        "id": "8f29e25d"
      },
      "source": [
        "### Technology Choices\n",
        "\n",
        "#### Next.js\n",
        "- Chosen for strong features for building performant, server-rendered React applications (file-based routing, API routes, optimizations).\n",
        "\n",
        "####  FastAPI\n",
        "- Selected for high performance, ease of use, and built-in API features (validation, docs).\n",
        "- Asynchronous capabilities crucial for tasks like PDF processing.\n",
        "\n",
        "#### Why PyMuPDF (and NOT OCR)\n",
        "- Pivot from OCR due to PyMuPDF's ability to directly extract text efficiently with less error potential on structured PDFs.\n",
        "- Lesson: Simpler tools can be more robust when data format is suitable.\n",
        "\n",
        "#### Groq API\n",
        "- Cost-effective access to powerful LLMs.\n",
        "- Low latency and high throughput critical for a responsive chatbot.\n",
        "\n",
        "#### ChromaDB\n",
        "- Chosen for ease of integration, open-source nature, and sufficient performance for project scale.\n",
        "- Supports both in-memory and persistent storage."
      ],
      "id": "8f29e25d"
    },
    {
      "cell_type": "markdown",
      "id": "8916800e",
      "metadata": {
        "id": "8916800e"
      },
      "source": [
        "###  RAG Pipeline Details"
      ]
    },
    {
      "cell_type": "code",
      "execution_count": 10,
      "id": "673e53a1",
      "metadata": {
        "colab": {
          "base_uri": "https://localhost:8080/",
          "height": 300
        },
        "id": "673e53a1",
        "outputId": "98c2d807-2c47-4575-ca0c-b45d85107b5a"
      },
      "outputs": [
        {
          "output_type": "display_data",
          "data": {
            "text/plain": [
              "<IPython.core.display.HTML object>"
            ],
            "text/html": [
              "<table border=\"1\" class=\"dataframe\">\n",
              "  <thead>\n",
              "    <tr style=\"text-align: right;\">\n",
              "      <th>Stage</th>\n",
              "      <th>Component</th>\n",
              "      <th>Time</th>\n",
              "    </tr>\n",
              "  </thead>\n",
              "  <tbody>\n",
              "    <tr>\n",
              "      <td>Document Upload</td>\n",
              "      <td>FastAPI</td>\n",
              "      <td>N/A</td>\n",
              "    </tr>\n",
              "    <tr>\n",
              "      <td>Text Extraction</td>\n",
              "      <td>PyMuPDF</td>\n",
              "      <td>~30s</td>\n",
              "    </tr>\n",
              "    <tr>\n",
              "      <td>Chunking</td>\n",
              "      <td>Custom Splitter</td>\n",
              "      <td>~5s</td>\n",
              "    </tr>\n",
              "    <tr>\n",
              "      <td>Embedding</td>\n",
              "      <td>all-mpnet-base-v2</td>\n",
              "      <td>~20s</td>\n",
              "    </tr>\n",
              "    <tr>\n",
              "      <td>Vector Store</td>\n",
              "      <td>ChromaDB</td>\n",
              "      <td>~10s</td>\n",
              "    </tr>\n",
              "    <tr>\n",
              "      <td>Query</td>\n",
              "      <td>User Input</td>\n",
              "      <td>Instant</td>\n",
              "    </tr>\n",
              "    <tr>\n",
              "      <td>Retrieval</td>\n",
              "      <td>HNSW Search</td>\n",
              "      <td>~0.5s</td>\n",
              "    </tr>\n",
              "    <tr>\n",
              "      <td>LLM Generation</td>\n",
              "      <td>Groq API</td>\n",
              "      <td>~2s</td>\n",
              "    </tr>\n",
              "  </tbody>\n",
              "</table>"
            ]
          },
          "metadata": {}
        }
      ],
      "source": [
        "# Display pipeline stages\n",
        "pipeline_stages = {\n",
        "    'Stage': ['Document Upload', 'Text Extraction', 'Chunking', 'Embedding', 'Vector Store', 'Query', 'Retrieval', 'LLM Generation'],\n",
        "    'Component': ['FastAPI', 'PyMuPDF', 'Custom Splitter', 'all-mpnet-base-v2', 'ChromaDB', 'User Input', 'HNSW Search', 'Groq API'],\n",
        "    'Time': ['N/A', '~30s', '~5s', '~20s', '~10s', 'Instant', '~0.5s', '~2s']\n",
        "}\n",
        "\n",
        "df = pd.DataFrame(pipeline_stages)\n",
        "display(HTML(df.to_html(index=False)))"
      ]
    },
    {
      "cell_type": "markdown",
      "metadata": {
        "id": "b3eb9fc7"
      },
      "source": [
        "### Deployment Architecture\n",
        "\n",
        "#### Three-Platform Deployment\n",
        "\n",
        "This project utilizes a multi-platform deployment strategy for different components:\n",
        "\n",
        "1.  **Vercel** (Frontend)\n",
        "    -   **Reason:** Vercel was chosen for hosting the Next.js frontend due to its seamless integration with Next.js projects, automatic deployments from GitHub, and optimizations for performance and developer experience. Its edge network helps provide fast load times for users globally.\n",
        "\n",
        "2.  **HuggingFace Spaces** (Backend)\n",
        "    -   **Reason:** HuggingFace Spaces was selected for deploying the FastAPI backend. It provides a convenient platform for hosting machine learning applications and APIs, which was suitable for the backend's role in handling the RAG pipeline. It simplifies the deployment of Python-based web applications.\n",
        "    -   **Issues faced:** On the free tier, limitations included less storage, no persistent storage, and slower response times.\n",
        "\n"
      ],
      "id": "b3eb9fc7"
    },
    {
      "cell_type": "markdown",
      "id": "be6d7251",
      "metadata": {
        "id": "be6d7251"
      },
      "source": [
        "<a name=\"lessons\"></a>\n",
        "## 9. Lessons Learned"
      ]
    },
    {
      "cell_type": "markdown",
      "metadata": {
        "id": "1ecb2244"
      },
      "source": [
        "### Technical Lessons\n",
        "\n",
        "1.  **About RAG Systems**\n",
        "    -   **What i learned:** Building a RAG system from scratch provided a deep understanding of the interplay between document processing, embedding models, vector stores, and LLMs. Learned that retrieval accuracy is paramount – even the most advanced LLM can't generate a correct answer if it's given irrelevant context. The importance of effective chunking and metadata in retrieval became very clear.\n",
        "    -   **Discovery:** The most surprising lesson was the superior performance of the simpler PyMuPDF-based text extraction over the more complex OCR+NLTK pipeline. This challenged the initial assumption that more sophisticated processing would automatically lead to better results.\n",
        "\n",
        "2.  **About Deployment**\n",
        "    -   **Dev vs production:** Learned that deployment environments introduce complexities not present in local development. Issues like dependency management, environment configuration, resource limits on free tiers, and cold starts became significant factors in production.\n",
        "    -   **What i would do differently:** For future projects requiring more robust backend performance and persistent storage, I would explore more scalable and production-ready platforms like Google Cloud Run, AWS, or Render, rather than relying solely on free-tier services like HuggingFace Spaces which have significant limitations.\n",
        "\n",
        "3.  **About Performance Optimization**\n",
        "    -   **What worked:** Optimizing the document processing and embedding stages was crucial. Efficient text extraction with PyMuPDF and parallelizing embedding creation significantly reduced the initial loading time. Using a fast inference LLM like Groq was key to achieving low query latency.\n",
        "    -   **What didn't:** Initially, overly complex text processing (as seen with the OCR+NLTK approach) did not improve performance or accuracy and added computational overhead. Debugging and optimizing the multi-platform communication layer also presented challenges.\n",
        "\n",
        "4.  **About Evaluation**\n",
        "    -   **Importance of ground truth:** Creating a high-quality, manually verified evaluation dataset with ground truth page numbers was essential for objectively measuring the system's performance and identifying areas for improvement. Relying solely on anecdotal testing would not have been sufficient.\n",
        "    -   **Measuring what matters:** Defining clear evaluation metrics beyond just \"exact match\" (like accuracy within ±2 pages) was important for understanding the practical utility of the system for users. The ±2 page metric better reflected how users interact with manuals and search for information."
      ],
      "id": "1ecb2244"
    },
    {
      "cell_type": "markdown",
      "metadata": {
        "id": "8e5dd3df"
      },
      "source": [
        "<a name=\"key\"></a>\n",
        "## 10. Key Takeaways\n",
        "\n",
        "### Technical Takeaways\n",
        "\n",
        "*   **Prioritize Simplicity:** Simpler, direct approaches can be more robust and effective than overly complex pipelines, particularly with structured data.\n",
        "*   **Focus on Retrieval:** In RAG systems, accurate context retrieval is paramount for effective generation.\n",
        "*   **Anticipate Deployment Complexity:** Production environments introduce unique challenges beyond development, requiring careful planning for resources and performance.\n",
        "*   **Implement Rigorous Evaluation:** Objective, data-driven evaluation with practical metrics is vital for measuring success and identifying areas for improvement.\n",
        "\n",
        "###  Personal Insights\n",
        "\n",
        "*   **The Power of Iteration:** Building and refining the system based on evaluation results was key to improving performance. Don't be afraid to iterate and simplify.\n",
        "*   **Understanding the User:** Designing the system with the end-user in mind (e.g., the ±2 page accuracy metric) was crucial for creating a practically useful tool.\n",
        "*   **Learning by Doing:** Hands-on experience building a full-stack RAG system provided invaluable learning beyond theoretical knowledge.\n",
        "\n",
        "### Lessons Learned\n",
        "\n",
        "*   **Simpler can be Better:** The unexpected outcome of the production system outperforming the research prototype highlighted the value of simplicity and robustness over unnecessary complexity.\n",
        "*   **Data-Driven Decisions:** Relying on a strong evaluation dataset and metrics was essential for making informed decisions about the system's architecture and areas for improvement.\n",
        "*   **Full-Stack Perspective:** Understanding the entire pipeline, from frontend to backend, document processing, and LLM interaction, is crucial for building a successful AI application."
      ],
      "id": "8e5dd3df"
    }
  ],
  "metadata": {
    "colab": {
      "provenance": [],
      "include_colab_link": true
    },
    "kernelspec": {
      "display_name": "Python 3",
      "name": "python3"
    },
    "language_info": {
      "name": "python"
    }
  },
  "nbformat": 4,
  "nbformat_minor": 5
}