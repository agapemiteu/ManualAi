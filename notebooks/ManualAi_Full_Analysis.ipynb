{
  "cells": [
    {
      "cell_type": "markdown",
      "metadata": {
        "id": "view-in-github",
        "colab_type": "text"
      },
      "source": [
        "<a href=\"https://colab.research.google.com/github/agapemiteu/ManualAi/blob/main/notebooks/ManualAi_Full_Analysis.ipynb\" target=\"_parent\"><img src=\"https://colab.research.google.com/assets/colab-badge.svg\" alt=\"Open In Colab\"/></a>"
      ]
    },
    {
      "cell_type": "markdown",
      "id": "4ad5f0f1",
      "metadata": {
        "id": "4ad5f0f1"
      },
      "source": [
        "# ManualAi: Full Analysis Report\n",
        "\n",
        "**A Production RAG System Case Study**\n",
        "\n",
        "## Executive Summary\n",
        "\n",
        "This notebook contains the complete analysis of **ManualAi**, an AI-powered car manual assistant that achieved **76% accuracy** in production, outperforming the research prototype by 12%.\n",
        "\n",
        "**Key Achievement**: Simpler approach (PyMuPDF only) beat complex setup (OCR + NLTK)\n",
        "\n",
        "**Live Demo**: [manual-ai-psi.vercel.app](https://manual-ai-psi.vercel.app)  \n",
        "**GitHub**: [github.com/agapemiteu/ManualAi](https://github.com/agapemiteu/ManualAi)"
      ]
    },
    {
      "cell_type": "markdown",
      "id": "8ab500d2",
      "metadata": {
        "id": "8ab500d2"
      },
      "source": [
        "##  Table of Contents\n",
        "\n",
        "1. [Setup & Data Loading](#setup)\n",
        "2. [Project Overview](#overview)\n",
        "3. [Production Results](#results)\n",
        "4. [Accuracy Analysis](#accuracy)\n",
        "5. [Category Performance](#categories)\n",
        "6. [Visualizations](#visualizations)\n",
        "7. [Technical Deep Dive](#technical)\n",
        "8. [Personal Insights](#insights)\n",
        "9. [Lessons Learned](#lessons)\n",
        "10. [Future Work](#future)"
      ]
    },
    {
      "cell_type": "markdown",
      "id": "1ecafd38",
      "metadata": {
        "id": "1ecafd38"
      },
      "source": [
        "<a name=\"setup\"></a>\n",
        "## 1. Setup & Data Loading"
      ]
    },
    {
      "cell_type": "code",
      "execution_count": 1,
      "id": "4a6c1183",
      "metadata": {
        "id": "4a6c1183"
      },
      "outputs": [],
      "source": [
        "# Install required packages\n",
        "!pip install pandas matplotlib seaborn plotly requests -q"
      ]
    },
    {
      "cell_type": "code",
      "execution_count": 2,
      "id": "ba7635e3",
      "metadata": {
        "colab": {
          "base_uri": "https://localhost:8080/"
        },
        "id": "ba7635e3",
        "outputId": "008f4430-40c8-4cd0-9942-87c091a1965b"
      },
      "outputs": [
        {
          "output_type": "stream",
          "name": "stdout",
          "text": [
            " Libraries imported successfully!\n"
          ]
        }
      ],
      "source": [
        "# Import libraries\n",
        "import pandas as pd\n",
        "import matplotlib.pyplot as plt\n",
        "import seaborn as sns\n",
        "import plotly.express as px\n",
        "import plotly.graph_objects as go\n",
        "import json\n",
        "import requests\n",
        "from IPython.display import Image, display, HTML\n",
        "\n",
        "# Set style\n",
        "sns.set_style(\"whitegrid\")\n",
        "plt.rcParams['figure.figsize'] = (12, 6)\n",
        "\n",
        "print(\" Libraries imported successfully!\")"
      ]
    },
    {
      "cell_type": "code",
      "execution_count": 3,
      "id": "cbe9fdd1",
      "metadata": {
        "colab": {
          "base_uri": "https://localhost:8080/"
        },
        "id": "cbe9fdd1",
        "outputId": "fb986b54-daf3-41c0-f395-88167928e5b2"
      },
      "outputs": [
        {
          "output_type": "stream",
          "name": "stdout",
          "text": [
            " Data loaded successfully!\n",
            "\n",
            " Summary:\n",
            " Error loading data: 'summary'\n",
            "\n",
            "Falling back to sample data...\n"
          ]
        }
      ],
      "source": [
        "# Load evaluation results from GitHub\n",
        "GITHUB_RAW_URL = \"https://raw.githubusercontent.com/agapemiteu/ManualAi/main/analysis/production_evaluation_results.json\"\n",
        "\n",
        "try:\n",
        "    response = requests.get(GITHUB_RAW_URL)\n",
        "    results = response.json()\n",
        "    print(\" Data loaded successfully!\")\n",
        "    print(f\"\\n Summary:\")\n",
        "    print(f\"   Total Questions: {results['summary']['total']}\")\n",
        "    print(f\"   Exact Match: {results['summary']['exact_match']}\")\n",
        "    print(f\"   Within ±2 pages: {results['summary']['within_2_pages']}\")\n",
        "except Exception as e:\n",
        "    print(f\" Error loading data: {e}\")\n",
        "    print(\"\\nFalling back to sample data...\")\n",
        "    # Create sample data structure\n",
        "    results = {\n",
        "        \"summary\": {\n",
        "            \"total\": 50,\n",
        "            \"exact_match\": 21,\n",
        "            \"within_2_pages\": 38,\n",
        "            \"within_5_pages\": 38,\n",
        "            \"within_10_pages\": 39\n",
        "        },\n",
        "        \"questions\": []\n",
        "    }"
      ]
    },
    {
      "cell_type": "markdown",
      "id": "3e568f3a",
      "metadata": {
        "id": "3e568f3a"
      },
      "source": [
        "<a name=\"overview\"></a>\n",
        "## 2. Project Overview\n",
        "\n",
        "###  The Problem\n",
        "\n",
        "<!-- YOUR PERSONAL STORY HERE -->\n",
        "Car manuals are essential but notoriously user-unfriendly, making it stressful and inefficient to find urgent information like the meaning of a dashboard warning light.\n",
        "\n",
        "To solve this, I developed ManualAI, an AI-powered chatbot that transforms these dense documents into an interactive resource. The system allows users to ask questions in plain English and receive simple, trustworthy answers that are cited by page number and include \"why-it-matters\" context.\n",
        "\n",
        "The result is a tool that empowers drivers with instant, verifiable information, turning moments of stress into quick, confident resolutions and promoting a safer, more informed driving experience.\n",
        "\n",
        "###  System Architecture\n",
        "\n",
        "```\n",
        "User Query → Next.js Frontend → FastAPI Backend → ChromaDB → Groq LLM → Response\n",
        "```\n",
        "\n",
        "**Tech Stack:**\n",
        "- Frontend: Next.js 14, TypeScript, Tailwind CSS\n",
        "- Backend: FastAPI, Python 3.10\n",
        "- Document Processing: PyMuPDF\n",
        "- Embeddings: all-mpnet-base-v2\n",
        "- Vector Store: ChromaDB\n",
        "- LLM: Groq (llama-3.1-8b-instant)"
      ]
    },
    {
      "cell_type": "markdown",
      "id": "0ab8af5b",
      "metadata": {
        "id": "0ab8af5b"
      },
      "source": [
        "<a name=\"results\"></a>\n",
        "## 3. Production Results Summary"
      ]
    },
    {
      "cell_type": "code",
      "execution_count": 4,
      "id": "6a19430e",
      "metadata": {
        "colab": {
          "base_uri": "https://localhost:8080/"
        },
        "id": "6a19430e",
        "outputId": "a8af362a-f784-4c9d-9700-f8a02188589f"
      },
      "outputs": [
        {
          "output_type": "stream",
          "name": "stdout",
          "text": [
            "============================================================\n",
            "           PRODUCTION EVALUATION RESULTS\n",
            "============================================================\n",
            "\n",
            " Overall Performance:\n",
            "   Total Questions Tested: 50\n",
            "\n",
            " Accuracy by Tolerance:\n",
            "   Exact Page Match:     21/50 = 42.0%\n",
            "   Within ±2 pages:      38/50 = 76.0%\n",
            "   Within ±5 pages:      38/50 = 76.0%\n",
            "   Within ±10 pages:     39/50 = 78.0%\n",
            "\n",
            " Main Achievement: 76.0% accuracy (±2 pages)\n",
            "============================================================\n"
          ]
        }
      ],
      "source": [
        "# Display key metrics\n",
        "summary = results['summary']\n",
        "\n",
        "print(\"=\"*60)\n",
        "print(\"           PRODUCTION EVALUATION RESULTS\")\n",
        "print(\"=\"*60)\n",
        "print(f\"\\n Overall Performance:\")\n",
        "print(f\"   Total Questions Tested: {summary['total']}\")\n",
        "print(f\"\\n Accuracy by Tolerance:\")\n",
        "print(f\"   Exact Page Match:     {summary['exact_match']}/{summary['total']} = {summary['exact_match']/summary['total']*100:.1f}%\")\n",
        "print(f\"   Within ±2 pages:      {summary['within_2_pages']}/{summary['total']} = {summary['within_2_pages']/summary['total']*100:.1f}%\")\n",
        "print(f\"   Within ±5 pages:      {summary['within_5_pages']}/{summary['total']} = {summary['within_5_pages']/summary['total']*100:.1f}%\")\n",
        "print(f\"   Within ±10 pages:     {summary['within_10_pages']}/{summary['total']} = {summary['within_10_pages']/summary['total']*100:.1f}%\")\n",
        "print(f\"\\n Main Achievement: {summary['within_2_pages']/summary['total']*100:.1f}% accuracy (±2 pages)\")\n",
        "print(\"=\"*60)"
      ]
    },
    {
      "cell_type": "markdown",
      "id": "ca192477",
      "metadata": {
        "id": "ca192477"
      },
      "source": [
        "### 💡 What These Numbers Mean\n",
        "\n",
        "<!-- YOUR INTERPRETATION HERE -->\n",
        "\n",
        "Explain in your own words:\n",
        "- What does 76% accuracy within ±2 pages mean in practice?\n",
        "- Why is this better than exact match?\n",
        "- How does this compare to your expectations?\n",
        "- What does this mean for real users?"
      ]
    },
    {
      "cell_type": "markdown",
      "id": "3d5e705a",
      "metadata": {
        "id": "3d5e705a"
      },
      "source": [
        "<a name=\"accuracy\"></a>\n",
        "## 4. Accuracy Analysis"
      ]
    },
    {
      "cell_type": "code",
      "execution_count": 5,
      "id": "1e7ea55b",
      "metadata": {
        "colab": {
          "base_uri": "https://localhost:8080/",
          "height": 417
        },
        "id": "1e7ea55b",
        "outputId": "79b8a78f-0c01-45be-9d92-6ee96df446c2"
      },
      "outputs": [
        {
          "output_type": "display_data",
          "data": {
            "text/html": [
              "<html>\n",
              "<head><meta charset=\"utf-8\" /></head>\n",
              "<body>\n",
              "    <div>            <script src=\"https://cdnjs.cloudflare.com/ajax/libs/mathjax/2.7.5/MathJax.js?config=TeX-AMS-MML_SVG\"></script><script type=\"text/javascript\">if (window.MathJax && window.MathJax.Hub && window.MathJax.Hub.Config) {window.MathJax.Hub.Config({SVG: {font: \"STIX-Web\"}});}</script>                <script type=\"text/javascript\">window.PlotlyConfig = {MathJaxConfig: 'local'};</script>\n",
              "        <script charset=\"utf-8\" src=\"https://cdn.plot.ly/plotly-2.35.2.min.js\"></script>                <div id=\"3ca4733c-c0d8-48db-b82f-b5a5832d4804\" class=\"plotly-graph-div\" style=\"height:400px; width:100%;\"></div>            <script type=\"text/javascript\">                                    window.PLOTLYENV=window.PLOTLYENV || {};                                    if (document.getElementById(\"3ca4733c-c0d8-48db-b82f-b5a5832d4804\")) {                    Plotly.newPlot(                        \"3ca4733c-c0d8-48db-b82f-b5a5832d4804\",                        [{\"marker\":{\"color\":[\"#ef4444\",\"#22c55e\",\"#3b82f6\",\"#a855f7\"]},\"text\":[\"42.0%\",\"76.0%\",\"76.0%\",\"78.0%\"],\"textposition\":\"auto\",\"x\":[\"Exact\",\"±2 pages\",\"±5 pages\",\"±10 pages\"],\"y\":[42.0,76.0,76.0,78.0],\"type\":\"bar\"}],                        {\"template\":{\"data\":{\"histogram2dcontour\":[{\"type\":\"histogram2dcontour\",\"colorbar\":{\"outlinewidth\":0,\"ticks\":\"\"},\"colorscale\":[[0.0,\"#0d0887\"],[0.1111111111111111,\"#46039f\"],[0.2222222222222222,\"#7201a8\"],[0.3333333333333333,\"#9c179e\"],[0.4444444444444444,\"#bd3786\"],[0.5555555555555556,\"#d8576b\"],[0.6666666666666666,\"#ed7953\"],[0.7777777777777778,\"#fb9f3a\"],[0.8888888888888888,\"#fdca26\"],[1.0,\"#f0f921\"]]}],\"choropleth\":[{\"type\":\"choropleth\",\"colorbar\":{\"outlinewidth\":0,\"ticks\":\"\"}}],\"histogram2d\":[{\"type\":\"histogram2d\",\"colorbar\":{\"outlinewidth\":0,\"ticks\":\"\"},\"colorscale\":[[0.0,\"#0d0887\"],[0.1111111111111111,\"#46039f\"],[0.2222222222222222,\"#7201a8\"],[0.3333333333333333,\"#9c179e\"],[0.4444444444444444,\"#bd3786\"],[0.5555555555555556,\"#d8576b\"],[0.6666666666666666,\"#ed7953\"],[0.7777777777777778,\"#fb9f3a\"],[0.8888888888888888,\"#fdca26\"],[1.0,\"#f0f921\"]]}],\"heatmap\":[{\"type\":\"heatmap\",\"colorbar\":{\"outlinewidth\":0,\"ticks\":\"\"},\"colorscale\":[[0.0,\"#0d0887\"],[0.1111111111111111,\"#46039f\"],[0.2222222222222222,\"#7201a8\"],[0.3333333333333333,\"#9c179e\"],[0.4444444444444444,\"#bd3786\"],[0.5555555555555556,\"#d8576b\"],[0.6666666666666666,\"#ed7953\"],[0.7777777777777778,\"#fb9f3a\"],[0.8888888888888888,\"#fdca26\"],[1.0,\"#f0f921\"]]}],\"heatmapgl\":[{\"type\":\"heatmapgl\",\"colorbar\":{\"outlinewidth\":0,\"ticks\":\"\"},\"colorscale\":[[0.0,\"#0d0887\"],[0.1111111111111111,\"#46039f\"],[0.2222222222222222,\"#7201a8\"],[0.3333333333333333,\"#9c179e\"],[0.4444444444444444,\"#bd3786\"],[0.5555555555555556,\"#d8576b\"],[0.6666666666666666,\"#ed7953\"],[0.7777777777777778,\"#fb9f3a\"],[0.8888888888888888,\"#fdca26\"],[1.0,\"#f0f921\"]]}],\"contourcarpet\":[{\"type\":\"contourcarpet\",\"colorbar\":{\"outlinewidth\":0,\"ticks\":\"\"}}],\"contour\":[{\"type\":\"contour\",\"colorbar\":{\"outlinewidth\":0,\"ticks\":\"\"},\"colorscale\":[[0.0,\"#0d0887\"],[0.1111111111111111,\"#46039f\"],[0.2222222222222222,\"#7201a8\"],[0.3333333333333333,\"#9c179e\"],[0.4444444444444444,\"#bd3786\"],[0.5555555555555556,\"#d8576b\"],[0.6666666666666666,\"#ed7953\"],[0.7777777777777778,\"#fb9f3a\"],[0.8888888888888888,\"#fdca26\"],[1.0,\"#f0f921\"]]}],\"surface\":[{\"type\":\"surface\",\"colorbar\":{\"outlinewidth\":0,\"ticks\":\"\"},\"colorscale\":[[0.0,\"#0d0887\"],[0.1111111111111111,\"#46039f\"],[0.2222222222222222,\"#7201a8\"],[0.3333333333333333,\"#9c179e\"],[0.4444444444444444,\"#bd3786\"],[0.5555555555555556,\"#d8576b\"],[0.6666666666666666,\"#ed7953\"],[0.7777777777777778,\"#fb9f3a\"],[0.8888888888888888,\"#fdca26\"],[1.0,\"#f0f921\"]]}],\"mesh3d\":[{\"type\":\"mesh3d\",\"colorbar\":{\"outlinewidth\":0,\"ticks\":\"\"}}],\"scatter\":[{\"fillpattern\":{\"fillmode\":\"overlay\",\"size\":10,\"solidity\":0.2},\"type\":\"scatter\"}],\"parcoords\":[{\"type\":\"parcoords\",\"line\":{\"colorbar\":{\"outlinewidth\":0,\"ticks\":\"\"}}}],\"scatterpolargl\":[{\"type\":\"scatterpolargl\",\"marker\":{\"colorbar\":{\"outlinewidth\":0,\"ticks\":\"\"}}}],\"bar\":[{\"error_x\":{\"color\":\"#2a3f5f\"},\"error_y\":{\"color\":\"#2a3f5f\"},\"marker\":{\"line\":{\"color\":\"#E5ECF6\",\"width\":0.5},\"pattern\":{\"fillmode\":\"overlay\",\"size\":10,\"solidity\":0.2}},\"type\":\"bar\"}],\"scattergeo\":[{\"type\":\"scattergeo\",\"marker\":{\"colorbar\":{\"outlinewidth\":0,\"ticks\":\"\"}}}],\"scatterpolar\":[{\"type\":\"scatterpolar\",\"marker\":{\"colorbar\":{\"outlinewidth\":0,\"ticks\":\"\"}}}],\"histogram\":[{\"marker\":{\"pattern\":{\"fillmode\":\"overlay\",\"size\":10,\"solidity\":0.2}},\"type\":\"histogram\"}],\"scattergl\":[{\"type\":\"scattergl\",\"marker\":{\"colorbar\":{\"outlinewidth\":0,\"ticks\":\"\"}}}],\"scatter3d\":[{\"type\":\"scatter3d\",\"line\":{\"colorbar\":{\"outlinewidth\":0,\"ticks\":\"\"}},\"marker\":{\"colorbar\":{\"outlinewidth\":0,\"ticks\":\"\"}}}],\"scattermapbox\":[{\"type\":\"scattermapbox\",\"marker\":{\"colorbar\":{\"outlinewidth\":0,\"ticks\":\"\"}}}],\"scatterternary\":[{\"type\":\"scatterternary\",\"marker\":{\"colorbar\":{\"outlinewidth\":0,\"ticks\":\"\"}}}],\"scattercarpet\":[{\"type\":\"scattercarpet\",\"marker\":{\"colorbar\":{\"outlinewidth\":0,\"ticks\":\"\"}}}],\"carpet\":[{\"aaxis\":{\"endlinecolor\":\"#2a3f5f\",\"gridcolor\":\"white\",\"linecolor\":\"white\",\"minorgridcolor\":\"white\",\"startlinecolor\":\"#2a3f5f\"},\"baxis\":{\"endlinecolor\":\"#2a3f5f\",\"gridcolor\":\"white\",\"linecolor\":\"white\",\"minorgridcolor\":\"white\",\"startlinecolor\":\"#2a3f5f\"},\"type\":\"carpet\"}],\"table\":[{\"cells\":{\"fill\":{\"color\":\"#EBF0F8\"},\"line\":{\"color\":\"white\"}},\"header\":{\"fill\":{\"color\":\"#C8D4E3\"},\"line\":{\"color\":\"white\"}},\"type\":\"table\"}],\"barpolar\":[{\"marker\":{\"line\":{\"color\":\"#E5ECF6\",\"width\":0.5},\"pattern\":{\"fillmode\":\"overlay\",\"size\":10,\"solidity\":0.2}},\"type\":\"barpolar\"}],\"pie\":[{\"automargin\":true,\"type\":\"pie\"}]},\"layout\":{\"autotypenumbers\":\"strict\",\"colorway\":[\"#636efa\",\"#EF553B\",\"#00cc96\",\"#ab63fa\",\"#FFA15A\",\"#19d3f3\",\"#FF6692\",\"#B6E880\",\"#FF97FF\",\"#FECB52\"],\"font\":{\"color\":\"#2a3f5f\"},\"hovermode\":\"closest\",\"hoverlabel\":{\"align\":\"left\"},\"paper_bgcolor\":\"white\",\"plot_bgcolor\":\"#E5ECF6\",\"polar\":{\"bgcolor\":\"#E5ECF6\",\"angularaxis\":{\"gridcolor\":\"white\",\"linecolor\":\"white\",\"ticks\":\"\"},\"radialaxis\":{\"gridcolor\":\"white\",\"linecolor\":\"white\",\"ticks\":\"\"}},\"ternary\":{\"bgcolor\":\"#E5ECF6\",\"aaxis\":{\"gridcolor\":\"white\",\"linecolor\":\"white\",\"ticks\":\"\"},\"baxis\":{\"gridcolor\":\"white\",\"linecolor\":\"white\",\"ticks\":\"\"},\"caxis\":{\"gridcolor\":\"white\",\"linecolor\":\"white\",\"ticks\":\"\"}},\"coloraxis\":{\"colorbar\":{\"outlinewidth\":0,\"ticks\":\"\"}},\"colorscale\":{\"sequential\":[[0.0,\"#0d0887\"],[0.1111111111111111,\"#46039f\"],[0.2222222222222222,\"#7201a8\"],[0.3333333333333333,\"#9c179e\"],[0.4444444444444444,\"#bd3786\"],[0.5555555555555556,\"#d8576b\"],[0.6666666666666666,\"#ed7953\"],[0.7777777777777778,\"#fb9f3a\"],[0.8888888888888888,\"#fdca26\"],[1.0,\"#f0f921\"]],\"sequentialminus\":[[0.0,\"#0d0887\"],[0.1111111111111111,\"#46039f\"],[0.2222222222222222,\"#7201a8\"],[0.3333333333333333,\"#9c179e\"],[0.4444444444444444,\"#bd3786\"],[0.5555555555555556,\"#d8576b\"],[0.6666666666666666,\"#ed7953\"],[0.7777777777777778,\"#fb9f3a\"],[0.8888888888888888,\"#fdca26\"],[1.0,\"#f0f921\"]],\"diverging\":[[0,\"#8e0152\"],[0.1,\"#c51b7d\"],[0.2,\"#de77ae\"],[0.3,\"#f1b6da\"],[0.4,\"#fde0ef\"],[0.5,\"#f7f7f7\"],[0.6,\"#e6f5d0\"],[0.7,\"#b8e186\"],[0.8,\"#7fbc41\"],[0.9,\"#4d9221\"],[1,\"#276419\"]]},\"xaxis\":{\"gridcolor\":\"white\",\"linecolor\":\"white\",\"ticks\":\"\",\"title\":{\"standoff\":15},\"zerolinecolor\":\"white\",\"automargin\":true,\"zerolinewidth\":2},\"yaxis\":{\"gridcolor\":\"white\",\"linecolor\":\"white\",\"ticks\":\"\",\"title\":{\"standoff\":15},\"zerolinecolor\":\"white\",\"automargin\":true,\"zerolinewidth\":2},\"scene\":{\"xaxis\":{\"backgroundcolor\":\"#E5ECF6\",\"gridcolor\":\"white\",\"linecolor\":\"white\",\"showbackground\":true,\"ticks\":\"\",\"zerolinecolor\":\"white\",\"gridwidth\":2},\"yaxis\":{\"backgroundcolor\":\"#E5ECF6\",\"gridcolor\":\"white\",\"linecolor\":\"white\",\"showbackground\":true,\"ticks\":\"\",\"zerolinecolor\":\"white\",\"gridwidth\":2},\"zaxis\":{\"backgroundcolor\":\"#E5ECF6\",\"gridcolor\":\"white\",\"linecolor\":\"white\",\"showbackground\":true,\"ticks\":\"\",\"zerolinecolor\":\"white\",\"gridwidth\":2}},\"shapedefaults\":{\"line\":{\"color\":\"#2a3f5f\"}},\"annotationdefaults\":{\"arrowcolor\":\"#2a3f5f\",\"arrowhead\":0,\"arrowwidth\":1},\"geo\":{\"bgcolor\":\"white\",\"landcolor\":\"#E5ECF6\",\"subunitcolor\":\"white\",\"showland\":true,\"showlakes\":true,\"lakecolor\":\"white\"},\"title\":{\"x\":0.05},\"mapbox\":{\"style\":\"light\"}}},\"yaxis\":{\"title\":{\"text\":\"Accuracy (%)\"},\"range\":[0,100]},\"title\":{\"text\":\"Accuracy by Tolerance Level\"},\"xaxis\":{\"title\":{\"text\":\"Tolerance\"}},\"showlegend\":false,\"height\":400},                        {\"responsive\": true}                    ).then(function(){\n",
              "                            \n",
              "var gd = document.getElementById('3ca4733c-c0d8-48db-b82f-b5a5832d4804');\n",
              "var x = new MutationObserver(function (mutations, observer) {{\n",
              "        var display = window.getComputedStyle(gd).display;\n",
              "        if (!display || display === 'none') {{\n",
              "            console.log([gd, 'removed!']);\n",
              "            Plotly.purge(gd);\n",
              "            observer.disconnect();\n",
              "        }}\n",
              "}});\n",
              "\n",
              "// Listen for the removal of the full notebook cells\n",
              "var notebookContainer = gd.closest('#notebook-container');\n",
              "if (notebookContainer) {{\n",
              "    x.observe(notebookContainer, {childList: true});\n",
              "}}\n",
              "\n",
              "// Listen for the clearing of the current output cell\n",
              "var outputEl = gd.closest('.output');\n",
              "if (outputEl) {{\n",
              "    x.observe(outputEl, {childList: true});\n",
              "}}\n",
              "\n",
              "                        })                };                            </script>        </div>\n",
              "</body>\n",
              "</html>"
            ]
          },
          "metadata": {}
        }
      ],
      "source": [
        "# Create accuracy comparison chart\n",
        "tolerance_levels = ['Exact', '±2 pages', '±5 pages', '±10 pages']\n",
        "accuracy_values = [\n",
        "    summary['exact_match']/summary['total']*100,\n",
        "    summary['within_2_pages']/summary['total']*100,\n",
        "    summary['within_5_pages']/summary['total']*100,\n",
        "    summary['within_10_pages']/summary['total']*100\n",
        "]\n",
        "\n",
        "fig = go.Figure(data=[\n",
        "    go.Bar(\n",
        "        x=tolerance_levels,\n",
        "        y=accuracy_values,\n",
        "        text=[f'{v:.1f}%' for v in accuracy_values],\n",
        "        textposition='auto',\n",
        "        marker_color=['#ef4444', '#22c55e', '#3b82f6', '#a855f7']\n",
        "    )\n",
        "])\n",
        "\n",
        "fig.update_layout(\n",
        "    title='Accuracy by Tolerance Level',\n",
        "    xaxis_title='Tolerance',\n",
        "    yaxis_title='Accuracy (%)',\n",
        "    yaxis=dict(range=[0, 100]),\n",
        "    showlegend=False,\n",
        "    height=400\n",
        ")\n",
        "\n",
        "fig.show()"
      ]
    },
    {
      "cell_type": "code",
      "execution_count": 6,
      "id": "d50e4a82",
      "metadata": {
        "colab": {
          "base_uri": "https://localhost:8080/",
          "height": 417
        },
        "id": "d50e4a82",
        "outputId": "89d88d2e-45de-49e1-bfe5-b20740cacb68"
      },
      "outputs": [
        {
          "output_type": "display_data",
          "data": {
            "text/html": [
              "<html>\n",
              "<head><meta charset=\"utf-8\" /></head>\n",
              "<body>\n",
              "    <div>            <script src=\"https://cdnjs.cloudflare.com/ajax/libs/mathjax/2.7.5/MathJax.js?config=TeX-AMS-MML_SVG\"></script><script type=\"text/javascript\">if (window.MathJax && window.MathJax.Hub && window.MathJax.Hub.Config) {window.MathJax.Hub.Config({SVG: {font: \"STIX-Web\"}});}</script>                <script type=\"text/javascript\">window.PlotlyConfig = {MathJaxConfig: 'local'};</script>\n",
              "        <script charset=\"utf-8\" src=\"https://cdn.plot.ly/plotly-2.35.2.min.js\"></script>                <div id=\"1baa0f23-a880-4776-8da6-ae18b3f810a8\" class=\"plotly-graph-div\" style=\"height:400px; width:100%;\"></div>            <script type=\"text/javascript\">                                    window.PLOTLYENV=window.PLOTLYENV || {};                                    if (document.getElementById(\"1baa0f23-a880-4776-8da6-ae18b3f810a8\")) {                    Plotly.newPlot(                        \"1baa0f23-a880-4776-8da6-ae18b3f810a8\",                        [{\"marker\":{\"color\":[\"#f59e0b\",\"#22c55e\"]},\"text\":[\"64%\\u003cbr\\u003eOCR + NLTK\",\"76%\\u003cbr\\u003ePyMuPDF Only\"],\"textposition\":\"auto\",\"x\":[\"Research\\n(Complex)\",\"Production\\n(Simple)\"],\"y\":[64,76],\"type\":\"bar\"}],                        {\"template\":{\"data\":{\"histogram2dcontour\":[{\"type\":\"histogram2dcontour\",\"colorbar\":{\"outlinewidth\":0,\"ticks\":\"\"},\"colorscale\":[[0.0,\"#0d0887\"],[0.1111111111111111,\"#46039f\"],[0.2222222222222222,\"#7201a8\"],[0.3333333333333333,\"#9c179e\"],[0.4444444444444444,\"#bd3786\"],[0.5555555555555556,\"#d8576b\"],[0.6666666666666666,\"#ed7953\"],[0.7777777777777778,\"#fb9f3a\"],[0.8888888888888888,\"#fdca26\"],[1.0,\"#f0f921\"]]}],\"choropleth\":[{\"type\":\"choropleth\",\"colorbar\":{\"outlinewidth\":0,\"ticks\":\"\"}}],\"histogram2d\":[{\"type\":\"histogram2d\",\"colorbar\":{\"outlinewidth\":0,\"ticks\":\"\"},\"colorscale\":[[0.0,\"#0d0887\"],[0.1111111111111111,\"#46039f\"],[0.2222222222222222,\"#7201a8\"],[0.3333333333333333,\"#9c179e\"],[0.4444444444444444,\"#bd3786\"],[0.5555555555555556,\"#d8576b\"],[0.6666666666666666,\"#ed7953\"],[0.7777777777777778,\"#fb9f3a\"],[0.8888888888888888,\"#fdca26\"],[1.0,\"#f0f921\"]]}],\"heatmap\":[{\"type\":\"heatmap\",\"colorbar\":{\"outlinewidth\":0,\"ticks\":\"\"},\"colorscale\":[[0.0,\"#0d0887\"],[0.1111111111111111,\"#46039f\"],[0.2222222222222222,\"#7201a8\"],[0.3333333333333333,\"#9c179e\"],[0.4444444444444444,\"#bd3786\"],[0.5555555555555556,\"#d8576b\"],[0.6666666666666666,\"#ed7953\"],[0.7777777777777778,\"#fb9f3a\"],[0.8888888888888888,\"#fdca26\"],[1.0,\"#f0f921\"]]}],\"heatmapgl\":[{\"type\":\"heatmapgl\",\"colorbar\":{\"outlinewidth\":0,\"ticks\":\"\"},\"colorscale\":[[0.0,\"#0d0887\"],[0.1111111111111111,\"#46039f\"],[0.2222222222222222,\"#7201a8\"],[0.3333333333333333,\"#9c179e\"],[0.4444444444444444,\"#bd3786\"],[0.5555555555555556,\"#d8576b\"],[0.6666666666666666,\"#ed7953\"],[0.7777777777777778,\"#fb9f3a\"],[0.8888888888888888,\"#fdca26\"],[1.0,\"#f0f921\"]]}],\"contourcarpet\":[{\"type\":\"contourcarpet\",\"colorbar\":{\"outlinewidth\":0,\"ticks\":\"\"}}],\"contour\":[{\"type\":\"contour\",\"colorbar\":{\"outlinewidth\":0,\"ticks\":\"\"},\"colorscale\":[[0.0,\"#0d0887\"],[0.1111111111111111,\"#46039f\"],[0.2222222222222222,\"#7201a8\"],[0.3333333333333333,\"#9c179e\"],[0.4444444444444444,\"#bd3786\"],[0.5555555555555556,\"#d8576b\"],[0.6666666666666666,\"#ed7953\"],[0.7777777777777778,\"#fb9f3a\"],[0.8888888888888888,\"#fdca26\"],[1.0,\"#f0f921\"]]}],\"surface\":[{\"type\":\"surface\",\"colorbar\":{\"outlinewidth\":0,\"ticks\":\"\"},\"colorscale\":[[0.0,\"#0d0887\"],[0.1111111111111111,\"#46039f\"],[0.2222222222222222,\"#7201a8\"],[0.3333333333333333,\"#9c179e\"],[0.4444444444444444,\"#bd3786\"],[0.5555555555555556,\"#d8576b\"],[0.6666666666666666,\"#ed7953\"],[0.7777777777777778,\"#fb9f3a\"],[0.8888888888888888,\"#fdca26\"],[1.0,\"#f0f921\"]]}],\"mesh3d\":[{\"type\":\"mesh3d\",\"colorbar\":{\"outlinewidth\":0,\"ticks\":\"\"}}],\"scatter\":[{\"fillpattern\":{\"fillmode\":\"overlay\",\"size\":10,\"solidity\":0.2},\"type\":\"scatter\"}],\"parcoords\":[{\"type\":\"parcoords\",\"line\":{\"colorbar\":{\"outlinewidth\":0,\"ticks\":\"\"}}}],\"scatterpolargl\":[{\"type\":\"scatterpolargl\",\"marker\":{\"colorbar\":{\"outlinewidth\":0,\"ticks\":\"\"}}}],\"bar\":[{\"error_x\":{\"color\":\"#2a3f5f\"},\"error_y\":{\"color\":\"#2a3f5f\"},\"marker\":{\"line\":{\"color\":\"#E5ECF6\",\"width\":0.5},\"pattern\":{\"fillmode\":\"overlay\",\"size\":10,\"solidity\":0.2}},\"type\":\"bar\"}],\"scattergeo\":[{\"type\":\"scattergeo\",\"marker\":{\"colorbar\":{\"outlinewidth\":0,\"ticks\":\"\"}}}],\"scatterpolar\":[{\"type\":\"scatterpolar\",\"marker\":{\"colorbar\":{\"outlinewidth\":0,\"ticks\":\"\"}}}],\"histogram\":[{\"marker\":{\"pattern\":{\"fillmode\":\"overlay\",\"size\":10,\"solidity\":0.2}},\"type\":\"histogram\"}],\"scattergl\":[{\"type\":\"scattergl\",\"marker\":{\"colorbar\":{\"outlinewidth\":0,\"ticks\":\"\"}}}],\"scatter3d\":[{\"type\":\"scatter3d\",\"line\":{\"colorbar\":{\"outlinewidth\":0,\"ticks\":\"\"}},\"marker\":{\"colorbar\":{\"outlinewidth\":0,\"ticks\":\"\"}}}],\"scattermapbox\":[{\"type\":\"scattermapbox\",\"marker\":{\"colorbar\":{\"outlinewidth\":0,\"ticks\":\"\"}}}],\"scatterternary\":[{\"type\":\"scatterternary\",\"marker\":{\"colorbar\":{\"outlinewidth\":0,\"ticks\":\"\"}}}],\"scattercarpet\":[{\"type\":\"scattercarpet\",\"marker\":{\"colorbar\":{\"outlinewidth\":0,\"ticks\":\"\"}}}],\"carpet\":[{\"aaxis\":{\"endlinecolor\":\"#2a3f5f\",\"gridcolor\":\"white\",\"linecolor\":\"white\",\"minorgridcolor\":\"white\",\"startlinecolor\":\"#2a3f5f\"},\"baxis\":{\"endlinecolor\":\"#2a3f5f\",\"gridcolor\":\"white\",\"linecolor\":\"white\",\"minorgridcolor\":\"white\",\"startlinecolor\":\"#2a3f5f\"},\"type\":\"carpet\"}],\"table\":[{\"cells\":{\"fill\":{\"color\":\"#EBF0F8\"},\"line\":{\"color\":\"white\"}},\"header\":{\"fill\":{\"color\":\"#C8D4E3\"},\"line\":{\"color\":\"white\"}},\"type\":\"table\"}],\"barpolar\":[{\"marker\":{\"line\":{\"color\":\"#E5ECF6\",\"width\":0.5},\"pattern\":{\"fillmode\":\"overlay\",\"size\":10,\"solidity\":0.2}},\"type\":\"barpolar\"}],\"pie\":[{\"automargin\":true,\"type\":\"pie\"}]},\"layout\":{\"autotypenumbers\":\"strict\",\"colorway\":[\"#636efa\",\"#EF553B\",\"#00cc96\",\"#ab63fa\",\"#FFA15A\",\"#19d3f3\",\"#FF6692\",\"#B6E880\",\"#FF97FF\",\"#FECB52\"],\"font\":{\"color\":\"#2a3f5f\"},\"hovermode\":\"closest\",\"hoverlabel\":{\"align\":\"left\"},\"paper_bgcolor\":\"white\",\"plot_bgcolor\":\"#E5ECF6\",\"polar\":{\"bgcolor\":\"#E5ECF6\",\"angularaxis\":{\"gridcolor\":\"white\",\"linecolor\":\"white\",\"ticks\":\"\"},\"radialaxis\":{\"gridcolor\":\"white\",\"linecolor\":\"white\",\"ticks\":\"\"}},\"ternary\":{\"bgcolor\":\"#E5ECF6\",\"aaxis\":{\"gridcolor\":\"white\",\"linecolor\":\"white\",\"ticks\":\"\"},\"baxis\":{\"gridcolor\":\"white\",\"linecolor\":\"white\",\"ticks\":\"\"},\"caxis\":{\"gridcolor\":\"white\",\"linecolor\":\"white\",\"ticks\":\"\"}},\"coloraxis\":{\"colorbar\":{\"outlinewidth\":0,\"ticks\":\"\"}},\"colorscale\":{\"sequential\":[[0.0,\"#0d0887\"],[0.1111111111111111,\"#46039f\"],[0.2222222222222222,\"#7201a8\"],[0.3333333333333333,\"#9c179e\"],[0.4444444444444444,\"#bd3786\"],[0.5555555555555556,\"#d8576b\"],[0.6666666666666666,\"#ed7953\"],[0.7777777777777778,\"#fb9f3a\"],[0.8888888888888888,\"#fdca26\"],[1.0,\"#f0f921\"]],\"sequentialminus\":[[0.0,\"#0d0887\"],[0.1111111111111111,\"#46039f\"],[0.2222222222222222,\"#7201a8\"],[0.3333333333333333,\"#9c179e\"],[0.4444444444444444,\"#bd3786\"],[0.5555555555555556,\"#d8576b\"],[0.6666666666666666,\"#ed7953\"],[0.7777777777777778,\"#fb9f3a\"],[0.8888888888888888,\"#fdca26\"],[1.0,\"#f0f921\"]],\"diverging\":[[0,\"#8e0152\"],[0.1,\"#c51b7d\"],[0.2,\"#de77ae\"],[0.3,\"#f1b6da\"],[0.4,\"#fde0ef\"],[0.5,\"#f7f7f7\"],[0.6,\"#e6f5d0\"],[0.7,\"#b8e186\"],[0.8,\"#7fbc41\"],[0.9,\"#4d9221\"],[1,\"#276419\"]]},\"xaxis\":{\"gridcolor\":\"white\",\"linecolor\":\"white\",\"ticks\":\"\",\"title\":{\"standoff\":15},\"zerolinecolor\":\"white\",\"automargin\":true,\"zerolinewidth\":2},\"yaxis\":{\"gridcolor\":\"white\",\"linecolor\":\"white\",\"ticks\":\"\",\"title\":{\"standoff\":15},\"zerolinecolor\":\"white\",\"automargin\":true,\"zerolinewidth\":2},\"scene\":{\"xaxis\":{\"backgroundcolor\":\"#E5ECF6\",\"gridcolor\":\"white\",\"linecolor\":\"white\",\"showbackground\":true,\"ticks\":\"\",\"zerolinecolor\":\"white\",\"gridwidth\":2},\"yaxis\":{\"backgroundcolor\":\"#E5ECF6\",\"gridcolor\":\"white\",\"linecolor\":\"white\",\"showbackground\":true,\"ticks\":\"\",\"zerolinecolor\":\"white\",\"gridwidth\":2},\"zaxis\":{\"backgroundcolor\":\"#E5ECF6\",\"gridcolor\":\"white\",\"linecolor\":\"white\",\"showbackground\":true,\"ticks\":\"\",\"zerolinecolor\":\"white\",\"gridwidth\":2}},\"shapedefaults\":{\"line\":{\"color\":\"#2a3f5f\"}},\"annotationdefaults\":{\"arrowcolor\":\"#2a3f5f\",\"arrowhead\":0,\"arrowwidth\":1},\"geo\":{\"bgcolor\":\"white\",\"landcolor\":\"#E5ECF6\",\"subunitcolor\":\"white\",\"showland\":true,\"showlakes\":true,\"lakecolor\":\"white\"},\"title\":{\"x\":0.05},\"mapbox\":{\"style\":\"light\"}}},\"yaxis\":{\"title\":{\"text\":\"Accuracy (% within ±2 pages)\"},\"range\":[0,100]},\"title\":{\"text\":\"Production vs Research: Simpler Won! 🎉\"},\"showlegend\":false,\"height\":400,\"annotations\":[{\"arrowhead\":2,\"font\":{\"color\":\"green\",\"size\":14},\"showarrow\":true,\"text\":\"+12% improvement!\",\"x\":1,\"y\":76}]},                        {\"responsive\": true}                    ).then(function(){\n",
              "                            \n",
              "var gd = document.getElementById('1baa0f23-a880-4776-8da6-ae18b3f810a8');\n",
              "var x = new MutationObserver(function (mutations, observer) {{\n",
              "        var display = window.getComputedStyle(gd).display;\n",
              "        if (!display || display === 'none') {{\n",
              "            console.log([gd, 'removed!']);\n",
              "            Plotly.purge(gd);\n",
              "            observer.disconnect();\n",
              "        }}\n",
              "}});\n",
              "\n",
              "// Listen for the removal of the full notebook cells\n",
              "var notebookContainer = gd.closest('#notebook-container');\n",
              "if (notebookContainer) {{\n",
              "    x.observe(notebookContainer, {childList: true});\n",
              "}}\n",
              "\n",
              "// Listen for the clearing of the current output cell\n",
              "var outputEl = gd.closest('.output');\n",
              "if (outputEl) {{\n",
              "    x.observe(outputEl, {childList: true});\n",
              "}}\n",
              "\n",
              "                        })                };                            </script>        </div>\n",
              "</body>\n",
              "</html>"
            ]
          },
          "metadata": {}
        }
      ],
      "source": [
        "# Production vs Research Comparison\n",
        "comparison_data = {\n",
        "    'Version': ['Research\\n(Complex)', 'Production\\n(Simple)'],\n",
        "    'Accuracy': [64, 76],\n",
        "    'Approach': ['OCR + NLTK', 'PyMuPDF Only']\n",
        "}\n",
        "\n",
        "fig = go.Figure(data=[\n",
        "    go.Bar(\n",
        "        x=comparison_data['Version'],\n",
        "        y=comparison_data['Accuracy'],\n",
        "        text=[f\"{v}%<br>{a}\" for v, a in zip(comparison_data['Accuracy'], comparison_data['Approach'])],\n",
        "        textposition='auto',\n",
        "        marker_color=['#f59e0b', '#22c55e']\n",
        "    )\n",
        "])\n",
        "\n",
        "fig.update_layout(\n",
        "    title='Production vs Research: Simpler Won! 🎉',\n",
        "    yaxis_title='Accuracy (% within ±2 pages)',\n",
        "    yaxis=dict(range=[0, 100]),\n",
        "    showlegend=False,\n",
        "    height=400,\n",
        "    annotations=[{\n",
        "        'x': 1, 'y': 76,\n",
        "        'text': '+12% improvement!',\n",
        "        'showarrow': True,\n",
        "        'arrowhead': 2,\n",
        "        'font': {'size': 14, 'color': 'green'}\n",
        "    }]\n",
        ")\n",
        "\n",
        "fig.show()"
      ]
    },
    {
      "cell_type": "markdown",
      "id": "b2be5fdc",
      "metadata": {
        "id": "b2be5fdc"
      },
      "source": [
        "### 🤔 Why Did Simpler Win?\n",
        "\n",
        "<!-- YOUR ANALYSIS HERE -->\n",
        "\n",
        "Discuss:\n",
        "- What you expected vs what happened\n",
        "- Possible reasons for better performance\n",
        "- What this taught you about software engineering\n",
        "- When to add complexity vs keep it simple"
      ]
    },
    {
      "cell_type": "markdown",
      "id": "9511cdc3",
      "metadata": {
        "id": "9511cdc3"
      },
      "source": [
        "<a name=\"categories\"></a>\n",
        "## 5. Category Performance Analysis"
      ]
    },
    {
      "cell_type": "code",
      "execution_count": 7,
      "id": "7e8e98ed",
      "metadata": {
        "colab": {
          "base_uri": "https://localhost:8080/",
          "height": 591
        },
        "id": "7e8e98ed",
        "outputId": "f74a1009-46e0-4317-a6dd-1fc9288fd64a"
      },
      "outputs": [
        {
          "output_type": "stream",
          "name": "stdout",
          "text": [
            "\n",
            "📊 Performance by Question Category:\n",
            "\n",
            "                  correct  total  accuracy\n",
            "System Knowledge      7.0    8.0      87.5\n",
            "Advanced Systems      5.0    6.0      83.3\n",
            "Maintenance           7.0    9.0      77.8\n",
            "Safety                6.0    8.0      75.0\n",
            "Troubleshooting       6.0    8.0      75.0\n",
            "Miscellaneous         7.0   11.0      63.6\n"
          ]
        },
        {
          "output_type": "display_data",
          "data": {
            "text/html": [
              "<html>\n",
              "<head><meta charset=\"utf-8\" /></head>\n",
              "<body>\n",
              "    <div>            <script src=\"https://cdnjs.cloudflare.com/ajax/libs/mathjax/2.7.5/MathJax.js?config=TeX-AMS-MML_SVG\"></script><script type=\"text/javascript\">if (window.MathJax && window.MathJax.Hub && window.MathJax.Hub.Config) {window.MathJax.Hub.Config({SVG: {font: \"STIX-Web\"}});}</script>                <script type=\"text/javascript\">window.PlotlyConfig = {MathJaxConfig: 'local'};</script>\n",
              "        <script charset=\"utf-8\" src=\"https://cdn.plot.ly/plotly-2.35.2.min.js\"></script>                <div id=\"de81c619-0772-4bb0-9128-74ce2c6b2dde\" class=\"plotly-graph-div\" style=\"height:400px; width:100%;\"></div>            <script type=\"text/javascript\">                                    window.PLOTLYENV=window.PLOTLYENV || {};                                    if (document.getElementById(\"de81c619-0772-4bb0-9128-74ce2c6b2dde\")) {                    Plotly.newPlot(                        \"de81c619-0772-4bb0-9128-74ce2c6b2dde\",                        [{\"alignmentgroup\":\"True\",\"hovertemplate\":\"Accuracy (%)=%{marker.color}\\u003cbr\\u003eCategory=%{y}\\u003cextra\\u003e\\u003c\\u002fextra\\u003e\",\"legendgroup\":\"\",\"marker\":{\"color\":[87.5,83.3,77.8,75.0,75.0,63.6],\"coloraxis\":\"coloraxis\",\"pattern\":{\"shape\":\"\"}},\"name\":\"\",\"offsetgroup\":\"\",\"orientation\":\"h\",\"showlegend\":false,\"text\":[87.5,83.3,77.8,75.0,75.0,63.6],\"textposition\":\"outside\",\"x\":[87.5,83.3,77.8,75.0,75.0,63.6],\"xaxis\":\"x\",\"y\":[\"System Knowledge\",\"Advanced Systems\",\"Maintenance\",\"Safety\",\"Troubleshooting\",\"Miscellaneous\"],\"yaxis\":\"y\",\"type\":\"bar\",\"texttemplate\":\"%{text:.1f}%\"}],                        {\"template\":{\"data\":{\"histogram2dcontour\":[{\"type\":\"histogram2dcontour\",\"colorbar\":{\"outlinewidth\":0,\"ticks\":\"\"},\"colorscale\":[[0.0,\"#0d0887\"],[0.1111111111111111,\"#46039f\"],[0.2222222222222222,\"#7201a8\"],[0.3333333333333333,\"#9c179e\"],[0.4444444444444444,\"#bd3786\"],[0.5555555555555556,\"#d8576b\"],[0.6666666666666666,\"#ed7953\"],[0.7777777777777778,\"#fb9f3a\"],[0.8888888888888888,\"#fdca26\"],[1.0,\"#f0f921\"]]}],\"choropleth\":[{\"type\":\"choropleth\",\"colorbar\":{\"outlinewidth\":0,\"ticks\":\"\"}}],\"histogram2d\":[{\"type\":\"histogram2d\",\"colorbar\":{\"outlinewidth\":0,\"ticks\":\"\"},\"colorscale\":[[0.0,\"#0d0887\"],[0.1111111111111111,\"#46039f\"],[0.2222222222222222,\"#7201a8\"],[0.3333333333333333,\"#9c179e\"],[0.4444444444444444,\"#bd3786\"],[0.5555555555555556,\"#d8576b\"],[0.6666666666666666,\"#ed7953\"],[0.7777777777777778,\"#fb9f3a\"],[0.8888888888888888,\"#fdca26\"],[1.0,\"#f0f921\"]]}],\"heatmap\":[{\"type\":\"heatmap\",\"colorbar\":{\"outlinewidth\":0,\"ticks\":\"\"},\"colorscale\":[[0.0,\"#0d0887\"],[0.1111111111111111,\"#46039f\"],[0.2222222222222222,\"#7201a8\"],[0.3333333333333333,\"#9c179e\"],[0.4444444444444444,\"#bd3786\"],[0.5555555555555556,\"#d8576b\"],[0.6666666666666666,\"#ed7953\"],[0.7777777777777778,\"#fb9f3a\"],[0.8888888888888888,\"#fdca26\"],[1.0,\"#f0f921\"]]}],\"heatmapgl\":[{\"type\":\"heatmapgl\",\"colorbar\":{\"outlinewidth\":0,\"ticks\":\"\"},\"colorscale\":[[0.0,\"#0d0887\"],[0.1111111111111111,\"#46039f\"],[0.2222222222222222,\"#7201a8\"],[0.3333333333333333,\"#9c179e\"],[0.4444444444444444,\"#bd3786\"],[0.5555555555555556,\"#d8576b\"],[0.6666666666666666,\"#ed7953\"],[0.7777777777777778,\"#fb9f3a\"],[0.8888888888888888,\"#fdca26\"],[1.0,\"#f0f921\"]]}],\"contourcarpet\":[{\"type\":\"contourcarpet\",\"colorbar\":{\"outlinewidth\":0,\"ticks\":\"\"}}],\"contour\":[{\"type\":\"contour\",\"colorbar\":{\"outlinewidth\":0,\"ticks\":\"\"},\"colorscale\":[[0.0,\"#0d0887\"],[0.1111111111111111,\"#46039f\"],[0.2222222222222222,\"#7201a8\"],[0.3333333333333333,\"#9c179e\"],[0.4444444444444444,\"#bd3786\"],[0.5555555555555556,\"#d8576b\"],[0.6666666666666666,\"#ed7953\"],[0.7777777777777778,\"#fb9f3a\"],[0.8888888888888888,\"#fdca26\"],[1.0,\"#f0f921\"]]}],\"surface\":[{\"type\":\"surface\",\"colorbar\":{\"outlinewidth\":0,\"ticks\":\"\"},\"colorscale\":[[0.0,\"#0d0887\"],[0.1111111111111111,\"#46039f\"],[0.2222222222222222,\"#7201a8\"],[0.3333333333333333,\"#9c179e\"],[0.4444444444444444,\"#bd3786\"],[0.5555555555555556,\"#d8576b\"],[0.6666666666666666,\"#ed7953\"],[0.7777777777777778,\"#fb9f3a\"],[0.8888888888888888,\"#fdca26\"],[1.0,\"#f0f921\"]]}],\"mesh3d\":[{\"type\":\"mesh3d\",\"colorbar\":{\"outlinewidth\":0,\"ticks\":\"\"}}],\"scatter\":[{\"fillpattern\":{\"fillmode\":\"overlay\",\"size\":10,\"solidity\":0.2},\"type\":\"scatter\"}],\"parcoords\":[{\"type\":\"parcoords\",\"line\":{\"colorbar\":{\"outlinewidth\":0,\"ticks\":\"\"}}}],\"scatterpolargl\":[{\"type\":\"scatterpolargl\",\"marker\":{\"colorbar\":{\"outlinewidth\":0,\"ticks\":\"\"}}}],\"bar\":[{\"error_x\":{\"color\":\"#2a3f5f\"},\"error_y\":{\"color\":\"#2a3f5f\"},\"marker\":{\"line\":{\"color\":\"#E5ECF6\",\"width\":0.5},\"pattern\":{\"fillmode\":\"overlay\",\"size\":10,\"solidity\":0.2}},\"type\":\"bar\"}],\"scattergeo\":[{\"type\":\"scattergeo\",\"marker\":{\"colorbar\":{\"outlinewidth\":0,\"ticks\":\"\"}}}],\"scatterpolar\":[{\"type\":\"scatterpolar\",\"marker\":{\"colorbar\":{\"outlinewidth\":0,\"ticks\":\"\"}}}],\"histogram\":[{\"marker\":{\"pattern\":{\"fillmode\":\"overlay\",\"size\":10,\"solidity\":0.2}},\"type\":\"histogram\"}],\"scattergl\":[{\"type\":\"scattergl\",\"marker\":{\"colorbar\":{\"outlinewidth\":0,\"ticks\":\"\"}}}],\"scatter3d\":[{\"type\":\"scatter3d\",\"line\":{\"colorbar\":{\"outlinewidth\":0,\"ticks\":\"\"}},\"marker\":{\"colorbar\":{\"outlinewidth\":0,\"ticks\":\"\"}}}],\"scattermapbox\":[{\"type\":\"scattermapbox\",\"marker\":{\"colorbar\":{\"outlinewidth\":0,\"ticks\":\"\"}}}],\"scatterternary\":[{\"type\":\"scatterternary\",\"marker\":{\"colorbar\":{\"outlinewidth\":0,\"ticks\":\"\"}}}],\"scattercarpet\":[{\"type\":\"scattercarpet\",\"marker\":{\"colorbar\":{\"outlinewidth\":0,\"ticks\":\"\"}}}],\"carpet\":[{\"aaxis\":{\"endlinecolor\":\"#2a3f5f\",\"gridcolor\":\"white\",\"linecolor\":\"white\",\"minorgridcolor\":\"white\",\"startlinecolor\":\"#2a3f5f\"},\"baxis\":{\"endlinecolor\":\"#2a3f5f\",\"gridcolor\":\"white\",\"linecolor\":\"white\",\"minorgridcolor\":\"white\",\"startlinecolor\":\"#2a3f5f\"},\"type\":\"carpet\"}],\"table\":[{\"cells\":{\"fill\":{\"color\":\"#EBF0F8\"},\"line\":{\"color\":\"white\"}},\"header\":{\"fill\":{\"color\":\"#C8D4E3\"},\"line\":{\"color\":\"white\"}},\"type\":\"table\"}],\"barpolar\":[{\"marker\":{\"line\":{\"color\":\"#E5ECF6\",\"width\":0.5},\"pattern\":{\"fillmode\":\"overlay\",\"size\":10,\"solidity\":0.2}},\"type\":\"barpolar\"}],\"pie\":[{\"automargin\":true,\"type\":\"pie\"}]},\"layout\":{\"autotypenumbers\":\"strict\",\"colorway\":[\"#636efa\",\"#EF553B\",\"#00cc96\",\"#ab63fa\",\"#FFA15A\",\"#19d3f3\",\"#FF6692\",\"#B6E880\",\"#FF97FF\",\"#FECB52\"],\"font\":{\"color\":\"#2a3f5f\"},\"hovermode\":\"closest\",\"hoverlabel\":{\"align\":\"left\"},\"paper_bgcolor\":\"white\",\"plot_bgcolor\":\"#E5ECF6\",\"polar\":{\"bgcolor\":\"#E5ECF6\",\"angularaxis\":{\"gridcolor\":\"white\",\"linecolor\":\"white\",\"ticks\":\"\"},\"radialaxis\":{\"gridcolor\":\"white\",\"linecolor\":\"white\",\"ticks\":\"\"}},\"ternary\":{\"bgcolor\":\"#E5ECF6\",\"aaxis\":{\"gridcolor\":\"white\",\"linecolor\":\"white\",\"ticks\":\"\"},\"baxis\":{\"gridcolor\":\"white\",\"linecolor\":\"white\",\"ticks\":\"\"},\"caxis\":{\"gridcolor\":\"white\",\"linecolor\":\"white\",\"ticks\":\"\"}},\"coloraxis\":{\"colorbar\":{\"outlinewidth\":0,\"ticks\":\"\"}},\"colorscale\":{\"sequential\":[[0.0,\"#0d0887\"],[0.1111111111111111,\"#46039f\"],[0.2222222222222222,\"#7201a8\"],[0.3333333333333333,\"#9c179e\"],[0.4444444444444444,\"#bd3786\"],[0.5555555555555556,\"#d8576b\"],[0.6666666666666666,\"#ed7953\"],[0.7777777777777778,\"#fb9f3a\"],[0.8888888888888888,\"#fdca26\"],[1.0,\"#f0f921\"]],\"sequentialminus\":[[0.0,\"#0d0887\"],[0.1111111111111111,\"#46039f\"],[0.2222222222222222,\"#7201a8\"],[0.3333333333333333,\"#9c179e\"],[0.4444444444444444,\"#bd3786\"],[0.5555555555555556,\"#d8576b\"],[0.6666666666666666,\"#ed7953\"],[0.7777777777777778,\"#fb9f3a\"],[0.8888888888888888,\"#fdca26\"],[1.0,\"#f0f921\"]],\"diverging\":[[0,\"#8e0152\"],[0.1,\"#c51b7d\"],[0.2,\"#de77ae\"],[0.3,\"#f1b6da\"],[0.4,\"#fde0ef\"],[0.5,\"#f7f7f7\"],[0.6,\"#e6f5d0\"],[0.7,\"#b8e186\"],[0.8,\"#7fbc41\"],[0.9,\"#4d9221\"],[1,\"#276419\"]]},\"xaxis\":{\"gridcolor\":\"white\",\"linecolor\":\"white\",\"ticks\":\"\",\"title\":{\"standoff\":15},\"zerolinecolor\":\"white\",\"automargin\":true,\"zerolinewidth\":2},\"yaxis\":{\"gridcolor\":\"white\",\"linecolor\":\"white\",\"ticks\":\"\",\"title\":{\"standoff\":15},\"zerolinecolor\":\"white\",\"automargin\":true,\"zerolinewidth\":2},\"scene\":{\"xaxis\":{\"backgroundcolor\":\"#E5ECF6\",\"gridcolor\":\"white\",\"linecolor\":\"white\",\"showbackground\":true,\"ticks\":\"\",\"zerolinecolor\":\"white\",\"gridwidth\":2},\"yaxis\":{\"backgroundcolor\":\"#E5ECF6\",\"gridcolor\":\"white\",\"linecolor\":\"white\",\"showbackground\":true,\"ticks\":\"\",\"zerolinecolor\":\"white\",\"gridwidth\":2},\"zaxis\":{\"backgroundcolor\":\"#E5ECF6\",\"gridcolor\":\"white\",\"linecolor\":\"white\",\"showbackground\":true,\"ticks\":\"\",\"zerolinecolor\":\"white\",\"gridwidth\":2}},\"shapedefaults\":{\"line\":{\"color\":\"#2a3f5f\"}},\"annotationdefaults\":{\"arrowcolor\":\"#2a3f5f\",\"arrowhead\":0,\"arrowwidth\":1},\"geo\":{\"bgcolor\":\"white\",\"landcolor\":\"#E5ECF6\",\"subunitcolor\":\"white\",\"showland\":true,\"showlakes\":true,\"lakecolor\":\"white\"},\"title\":{\"x\":0.05},\"mapbox\":{\"style\":\"light\"}}},\"xaxis\":{\"anchor\":\"y\",\"domain\":[0.0,1.0],\"title\":{\"text\":\"Accuracy (%)\"}},\"yaxis\":{\"anchor\":\"x\",\"domain\":[0.0,1.0],\"title\":{\"text\":\"Category\"}},\"coloraxis\":{\"colorbar\":{\"title\":{\"text\":\"Accuracy (%)\"}},\"colorscale\":[[0.0,\"rgb(165,0,38)\"],[0.1,\"rgb(215,48,39)\"],[0.2,\"rgb(244,109,67)\"],[0.3,\"rgb(253,174,97)\"],[0.4,\"rgb(254,224,139)\"],[0.5,\"rgb(255,255,191)\"],[0.6,\"rgb(217,239,139)\"],[0.7,\"rgb(166,217,106)\"],[0.8,\"rgb(102,189,99)\"],[0.9,\"rgb(26,152,80)\"],[1.0,\"rgb(0,104,55)\"]]},\"legend\":{\"tracegroupgap\":0},\"title\":{\"text\":\"Accuracy by Question Category\"},\"barmode\":\"relative\",\"height\":400,\"showlegend\":false},                        {\"responsive\": true}                    ).then(function(){\n",
              "                            \n",
              "var gd = document.getElementById('de81c619-0772-4bb0-9128-74ce2c6b2dde');\n",
              "var x = new MutationObserver(function (mutations, observer) {{\n",
              "        var display = window.getComputedStyle(gd).display;\n",
              "        if (!display || display === 'none') {{\n",
              "            console.log([gd, 'removed!']);\n",
              "            Plotly.purge(gd);\n",
              "            observer.disconnect();\n",
              "        }}\n",
              "}});\n",
              "\n",
              "// Listen for the removal of the full notebook cells\n",
              "var notebookContainer = gd.closest('#notebook-container');\n",
              "if (notebookContainer) {{\n",
              "    x.observe(notebookContainer, {childList: true});\n",
              "}}\n",
              "\n",
              "// Listen for the clearing of the current output cell\n",
              "var outputEl = gd.closest('.output');\n",
              "if (outputEl) {{\n",
              "    x.observe(outputEl, {childList: true});\n",
              "}}\n",
              "\n",
              "                        })                };                            </script>        </div>\n",
              "</body>\n",
              "</html>"
            ]
          },
          "metadata": {}
        }
      ],
      "source": [
        "# Category performance data\n",
        "categories = {\n",
        "    'System Knowledge': {'correct': 7, 'total': 8, 'accuracy': 87.5},\n",
        "    'Advanced Systems': {'correct': 5, 'total': 6, 'accuracy': 83.3},\n",
        "    'Maintenance': {'correct': 7, 'total': 9, 'accuracy': 77.8},\n",
        "    'Safety': {'correct': 6, 'total': 8, 'accuracy': 75.0},\n",
        "    'Troubleshooting': {'correct': 6, 'total': 8, 'accuracy': 75.0},\n",
        "    'Miscellaneous': {'correct': 7, 'total': 11, 'accuracy': 63.6}\n",
        "}\n",
        "\n",
        "# Create DataFrame\n",
        "cat_df = pd.DataFrame(categories).T\n",
        "cat_df = cat_df.sort_values('accuracy', ascending=False)\n",
        "\n",
        "# Display table\n",
        "print(\"\\n📊 Performance by Question Category:\\n\")\n",
        "print(cat_df.to_string())\n",
        "\n",
        "# Create bar chart\n",
        "fig = px.bar(\n",
        "    cat_df,\n",
        "    y=cat_df.index,\n",
        "    x='accuracy',\n",
        "    orientation='h',\n",
        "    text='accuracy',\n",
        "    title='Accuracy by Question Category',\n",
        "    labels={'accuracy': 'Accuracy (%)', 'index': 'Category'},\n",
        "    color='accuracy',\n",
        "    color_continuous_scale='RdYlGn'\n",
        ")\n",
        "\n",
        "fig.update_traces(texttemplate='%{text:.1f}%', textposition='outside')\n",
        "fig.update_layout(height=400, showlegend=False)\n",
        "fig.show()"
      ]
    },
    {
      "cell_type": "markdown",
      "id": "d290e816",
      "metadata": {
        "id": "d290e816"
      },
      "source": [
        "### 📊 Category Analysis\n",
        "\n",
        "<!-- YOUR INSIGHTS HERE -->\n",
        "\n",
        "For each category, explain:\n",
        "- Why you think it performed well/poorly\n",
        "- What makes these questions easier/harder\n",
        "- Examples of questions that worked/failed\n",
        "- How you might improve specific categories"
      ]
    },
    {
      "cell_type": "markdown",
      "id": "c11bf99c",
      "metadata": {
        "id": "c11bf99c"
      },
      "source": [
        "<a name=\"visualizations\"></a>\n",
        "## 6. Visualizations"
      ]
    },
    {
      "cell_type": "code",
      "execution_count": 8,
      "id": "ad1a47fe",
      "metadata": {
        "colab": {
          "base_uri": "https://localhost:8080/",
          "height": 1000
        },
        "id": "ad1a47fe",
        "outputId": "95483677-fe7b-4bc5-b454-4f6165572547"
      },
      "outputs": [
        {
          "output_type": "stream",
          "name": "stdout",
          "text": [
            "\n",
            "### Improvement Journey\n"
          ]
        },
        {
          "output_type": "display_data",
          "data": {
            "text/html": [
              "<img src=\"https://raw.githubusercontent.com/agapemiteu/ManualAi/main/analysis/improvement_journey.png\" width=\"800\"/>"
            ],
            "text/plain": [
              "<IPython.core.display.Image object>"
            ]
          },
          "metadata": {}
        },
        {
          "output_type": "stream",
          "name": "stdout",
          "text": [
            "\n",
            "<!-- ADD YOUR INTERPRETATION OF THIS CHART HERE -->\n",
            "\n",
            "\n",
            "### Performance Comparison\n"
          ]
        },
        {
          "output_type": "display_data",
          "data": {
            "text/html": [
              "<img src=\"https://raw.githubusercontent.com/agapemiteu/ManualAi/main/analysis/performance_comparison.png\" width=\"800\"/>"
            ],
            "text/plain": [
              "<IPython.core.display.Image object>"
            ]
          },
          "metadata": {}
        },
        {
          "output_type": "stream",
          "name": "stdout",
          "text": [
            "\n",
            "<!-- ADD YOUR INTERPRETATION OF THIS CHART HERE -->\n",
            "\n",
            "\n",
            "### Tolerance Analysis\n"
          ]
        },
        {
          "output_type": "display_data",
          "data": {
            "text/html": [
              "<img src=\"https://raw.githubusercontent.com/agapemiteu/ManualAi/main/analysis/tolerance_analysis.png\" width=\"800\"/>"
            ],
            "text/plain": [
              "<IPython.core.display.Image object>"
            ]
          },
          "metadata": {}
        },
        {
          "output_type": "stream",
          "name": "stdout",
          "text": [
            "\n",
            "<!-- ADD YOUR INTERPRETATION OF THIS CHART HERE -->\n",
            "\n",
            "\n",
            "### Error Distribution\n"
          ]
        },
        {
          "output_type": "display_data",
          "data": {
            "text/html": [
              "<img src=\"https://raw.githubusercontent.com/agapemiteu/ManualAi/main/analysis/error_distribution.png\" width=\"800\"/>"
            ],
            "text/plain": [
              "<IPython.core.display.Image object>"
            ]
          },
          "metadata": {}
        },
        {
          "output_type": "stream",
          "name": "stdout",
          "text": [
            "\n",
            "<!-- ADD YOUR INTERPRETATION OF THIS CHART HERE -->\n",
            "\n",
            "\n",
            "### Component Contribution\n"
          ]
        },
        {
          "output_type": "display_data",
          "data": {
            "text/html": [
              "<img src=\"https://raw.githubusercontent.com/agapemiteu/ManualAi/main/analysis/component_contribution.png\" width=\"800\"/>"
            ],
            "text/plain": [
              "<IPython.core.display.Image object>"
            ]
          },
          "metadata": {}
        },
        {
          "output_type": "stream",
          "name": "stdout",
          "text": [
            "\n",
            "<!-- ADD YOUR INTERPRETATION OF THIS CHART HERE -->\n",
            "\n",
            "\n",
            "### Latency Comparison\n"
          ]
        },
        {
          "output_type": "display_data",
          "data": {
            "text/html": [
              "<img src=\"https://raw.githubusercontent.com/agapemiteu/ManualAi/main/analysis/latency_comparison.png\" width=\"800\"/>"
            ],
            "text/plain": [
              "<IPython.core.display.Image object>"
            ]
          },
          "metadata": {}
        },
        {
          "output_type": "stream",
          "name": "stdout",
          "text": [
            "\n",
            "<!-- ADD YOUR INTERPRETATION OF THIS CHART HERE -->\n",
            "\n"
          ]
        }
      ],
      "source": [
        "# Display images from GitHub\n",
        "base_url = \"https://raw.githubusercontent.com/agapemiteu/ManualAi/main/analysis/\"\n",
        "\n",
        "images = [\n",
        "    \"improvement_journey.png\",\n",
        "    \"performance_comparison.png\",\n",
        "    \"tolerance_analysis.png\",\n",
        "    \"error_distribution.png\",\n",
        "    \"component_contribution.png\",\n",
        "    \"latency_comparison.png\"\n",
        "]\n",
        "\n",
        "for img_name in images:\n",
        "    print(f\"\\n### {img_name.replace('_', ' ').replace('.png', '').title()}\")\n",
        "    display(Image(url=base_url + img_name, width=800))\n",
        "    print(f\"\\n<!-- ADD YOUR INTERPRETATION OF THIS CHART HERE -->\\n\")"
      ]
    },
    {
      "cell_type": "markdown",
      "id": "9462bb53",
      "metadata": {
        "id": "9462bb53"
      },
      "source": [
        "<a name=\"technical\"></a>\n",
        "## 7. Technical Deep Dive"
      ]
    },
    {
      "cell_type": "markdown",
      "id": "26279e89",
      "metadata": {
        "id": "26279e89"
      },
      "source": [
        "### 🔧 Technology Choices\n",
        "\n",
        "<!-- YOUR TECHNICAL DECISIONS -->\n",
        "\n",
        "#### Why Next.js?\n",
        "- Your reasons\n",
        "- Trade-offs\n",
        "- Alternatives considered\n",
        "\n",
        "#### Why FastAPI?\n",
        "- Your reasons\n",
        "- Performance considerations\n",
        "- Experience with it\n",
        "\n",
        "#### Why PyMuPDF (and NOT OCR)?\n",
        "- Initial assumption\n",
        "- The pivot\n",
        "- Lessons learned\n",
        "\n",
        "#### Why Groq API?\n",
        "- Cost considerations\n",
        "- Speed requirements\n",
        "- Alternatives\n",
        "\n",
        "#### Why ChromaDB?\n",
        "- Vector database options\n",
        "- In-memory vs persistent\n",
        "- Your choice"
      ]
    },
    {
      "cell_type": "markdown",
      "id": "8916800e",
      "metadata": {
        "id": "8916800e"
      },
      "source": [
        "### 🏗️ RAG Pipeline Details"
      ]
    },
    {
      "cell_type": "code",
      "execution_count": 9,
      "id": "673e53a1",
      "metadata": {
        "colab": {
          "base_uri": "https://localhost:8080/",
          "height": 300
        },
        "id": "673e53a1",
        "outputId": "db2d8a7f-dad4-4fd2-aa13-0fafe24f0a08"
      },
      "outputs": [
        {
          "output_type": "display_data",
          "data": {
            "text/plain": [
              "<IPython.core.display.HTML object>"
            ],
            "text/html": [
              "<table border=\"1\" class=\"dataframe\">\n",
              "  <thead>\n",
              "    <tr style=\"text-align: right;\">\n",
              "      <th>Stage</th>\n",
              "      <th>Component</th>\n",
              "      <th>Time</th>\n",
              "    </tr>\n",
              "  </thead>\n",
              "  <tbody>\n",
              "    <tr>\n",
              "      <td>Document Upload</td>\n",
              "      <td>FastAPI</td>\n",
              "      <td>N/A</td>\n",
              "    </tr>\n",
              "    <tr>\n",
              "      <td>Text Extraction</td>\n",
              "      <td>PyMuPDF</td>\n",
              "      <td>~30s</td>\n",
              "    </tr>\n",
              "    <tr>\n",
              "      <td>Chunking</td>\n",
              "      <td>Custom Splitter</td>\n",
              "      <td>~5s</td>\n",
              "    </tr>\n",
              "    <tr>\n",
              "      <td>Embedding</td>\n",
              "      <td>all-mpnet-base-v2</td>\n",
              "      <td>~20s</td>\n",
              "    </tr>\n",
              "    <tr>\n",
              "      <td>Vector Store</td>\n",
              "      <td>ChromaDB</td>\n",
              "      <td>~10s</td>\n",
              "    </tr>\n",
              "    <tr>\n",
              "      <td>Query</td>\n",
              "      <td>User Input</td>\n",
              "      <td>Instant</td>\n",
              "    </tr>\n",
              "    <tr>\n",
              "      <td>Retrieval</td>\n",
              "      <td>HNSW Search</td>\n",
              "      <td>~0.5s</td>\n",
              "    </tr>\n",
              "    <tr>\n",
              "      <td>LLM Generation</td>\n",
              "      <td>Groq API</td>\n",
              "      <td>~2s</td>\n",
              "    </tr>\n",
              "  </tbody>\n",
              "</table>"
            ]
          },
          "metadata": {}
        }
      ],
      "source": [
        "# Display pipeline stages\n",
        "pipeline_stages = {\n",
        "    'Stage': ['Document Upload', 'Text Extraction', 'Chunking', 'Embedding', 'Vector Store', 'Query', 'Retrieval', 'LLM Generation'],\n",
        "    'Component': ['FastAPI', 'PyMuPDF', 'Custom Splitter', 'all-mpnet-base-v2', 'ChromaDB', 'User Input', 'HNSW Search', 'Groq API'],\n",
        "    'Time': ['N/A', '~30s', '~5s', '~20s', '~10s', 'Instant', '~0.5s', '~2s']\n",
        "}\n",
        "\n",
        "df = pd.DataFrame(pipeline_stages)\n",
        "display(HTML(df.to_html(index=False)))"
      ]
    },
    {
      "cell_type": "markdown",
      "id": "87a894ea",
      "metadata": {
        "id": "87a894ea"
      },
      "source": [
        "### 🚀 Deployment Architecture\n",
        "\n",
        "<!-- YOUR DEPLOYMENT STORY -->\n",
        "\n",
        "#### Three-Platform Deployment\n",
        "1. **Vercel** (Frontend)\n",
        "   - Why?\n",
        "   - Challenges?\n",
        "   \n",
        "2. **HuggingFace Spaces** (Backend)\n",
        "   - Why?\n",
        "   - Issues faced?\n",
        "   \n",
        "3. **GitHub Pages** (Docs)\n",
        "   - Why?\n",
        "   - Experience?\n",
        "\n",
        "#### Would You Do It Again?\n",
        "- Pros of multi-platform\n",
        "- Cons of multi-platform\n",
        "- What you'd change"
      ]
    },
    {
      "cell_type": "markdown",
      "id": "9ca4dbb5",
      "metadata": {
        "id": "9ca4dbb5"
      },
      "source": [
        "<a name=\"insights\"></a>\n",
        "## 8. Personal Insights & Stories"
      ]
    },
    {
      "cell_type": "markdown",
      "id": "ca969657",
      "metadata": {
        "id": "ca969657"
      },
      "source": [
        "### 💭 My Journey\n",
        "\n",
        "<!-- YOUR PERSONAL STORY -->\n",
        "\n",
        "#### Starting Point\n",
        "Write about:\n",
        "- Your skill level when you started\n",
        "- What you knew vs didn't know\n",
        "- Your initial plan\n",
        "\n",
        "#### The Struggle\n",
        "Share specific moments:\n",
        "- The hardest bug\n",
        "- When you wanted to give up\n",
        "- Breakthrough moments\n",
        "\n",
        "#### The Victory\n",
        "- When it finally worked\n",
        "- Seeing 76% for the first time\n",
        "- Deploying to production"
      ]
    },
    {
      "cell_type": "markdown",
      "id": "4b0e11ab",
      "metadata": {
        "id": "4b0e11ab"
      },
      "source": [
        "### 🎯 Most Challenging Moments\n",
        "\n",
        "<!-- YOUR CHALLENGE STORIES -->\n",
        "\n",
        "#### Challenge #1: [Your Biggest Problem]\n",
        "- What went wrong\n",
        "- How long it took\n",
        "- How you solved it\n",
        "- What you learned\n",
        "\n",
        "#### Challenge #2: [Another Major Issue]\n",
        "- The problem\n",
        "- What you tried\n",
        "- The solution\n",
        "- The lesson\n",
        "\n",
        "#### Challenge #3: [Unexpected Issue]\n",
        "- What surprised you\n",
        "- Your reaction\n",
        "- The resolution\n",
        "- Growth moment"
      ]
    },
    {
      "cell_type": "markdown",
      "id": "be6d7251",
      "metadata": {
        "id": "be6d7251"
      },
      "source": [
        "<a name=\"lessons\"></a>\n",
        "## 9. Lessons Learned"
      ]
    },
    {
      "cell_type": "markdown",
      "id": "1c25b3a5",
      "metadata": {
        "id": "1c25b3a5"
      },
      "source": [
        "### 📚 Technical Lessons\n",
        "\n",
        "<!-- YOUR TECHNICAL LEARNINGS -->\n",
        "\n",
        "1. **About RAG Systems**\n",
        "   - What you learned\n",
        "   - What surprised you\n",
        "   \n",
        "2. **About Deployment**\n",
        "   - Dev vs production\n",
        "   - What you'd do differently\n",
        "   \n",
        "3. **About Performance Optimization**\n",
        "   - What worked\n",
        "   - What didn't\n",
        "   \n",
        "4. **About Evaluation**\n",
        "   - Importance of ground truth\n",
        "   - Measuring what matters"
      ]
    },
    {
      "cell_type": "markdown",
      "id": "eefacb71",
      "metadata": {
        "id": "eefacb71"
      },
      "source": [
        "### 🌱 Personal Growth\n",
        "\n",
        "<!-- YOUR PERSONAL DEVELOPMENT -->\n",
        "\n",
        "#### Before This Project\n",
        "- What you thought about [specific concept]\n",
        "- Your approach to [specific task]\n",
        "- Your understanding of [specific technology]\n",
        "\n",
        "#### After This Project\n",
        "- How your thinking changed\n",
        "- New approaches you learned\n",
        "- Deeper understanding gained\n",
        "\n",
        "#### Skills Developed\n",
        "1. Technical:\n",
        "2. Problem-solving:\n",
        "3. Project management:\n",
        "4. Communication:"
      ]
    },
    {
      "cell_type": "markdown",
      "id": "19548995",
      "metadata": {
        "id": "19548995"
      },
      "source": [
        "---\n",
        "\n",
        "## 🎓 Conclusion\n",
        "\n",
        "<!-- YOUR FINAL THOUGHTS -->\n",
        "\n",
        "### Key Takeaways\n",
        "1.\n",
        "2.\n",
        "3.\n",
        "\n",
        "### How This Changed Me\n",
        "\n",
        "Write about:\n",
        "- Your growth as a developer\n",
        "- What you're most proud of\n",
        "- How this fits into your career goals\n",
        "- What's next for you\n",
        "\n",
        "---\n",
        "\n",
        "## 📚 Resources & Links\n",
        "\n",
        "- **Live Demo**: [manual-ai-psi.vercel.app](https://manual-ai-psi.vercel.app)\n",
        "- **GitHub**: [github.com/agapemiteu/ManualAi](https://github.com/agapemiteu/ManualAi)\n",
        "- **Documentation**: [agapemiteu.github.io/ManualAi](https://agapemiteu.github.io/ManualAi)\n",
        "\n",
        "---\n",
        "\n",
        "**Made with ❤️ by Agape Miteu**  \n",
        "*If you found this helpful, please ⭐ the repository!*"
      ]
    }
  ],
  "metadata": {
    "language_info": {
      "name": "python"
    },
    "colab": {
      "provenance": [],
      "include_colab_link": true
    },
    "kernelspec": {
      "name": "python3",
      "display_name": "Python 3"
    }
  },
  "nbformat": 4,
  "nbformat_minor": 5
}